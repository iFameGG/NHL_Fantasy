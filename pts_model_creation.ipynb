{
 "cells": [
  {
   "cell_type": "markdown",
   "id": "e9001e20-59d2-4753-823c-bf34912f8be5",
   "metadata": {},
   "source": [
    "# Fantasy Points Prediction Model *by Antonio Nardi*"
   ]
  },
  {
   "cell_type": "markdown",
   "id": "1ad0a2a9-d35e-480c-abbc-23cb1641ab8e",
   "metadata": {},
   "source": [
    "## Goal"
   ]
  },
  {
   "cell_type": "markdown",
   "id": "761b3eb0-013f-4ee3-aae0-c7a37311ae2e",
   "metadata": {},
   "source": [
    "The goal of this project is to create a model that will predict the amount of fantasy points a player will produce, given certain non related-variables. A non-related variable is a variable that doesn't directly affect the base fantasy league's formula for points. Which includes variables that directly result in a goal or an assist."
   ]
  },
  {
   "cell_type": "markdown",
   "id": "50d71e07-c753-4a9e-a6ae-4448b7d580d3",
   "metadata": {},
   "source": [
    "# Setup"
   ]
  },
  {
   "cell_type": "markdown",
   "id": "69e501c9-a95a-444a-ab4a-492553535dcf",
   "metadata": {},
   "source": [
    "## Installs"
   ]
  },
  {
   "cell_type": "code",
   "execution_count": 1,
   "id": "8afc17c7-2765-4a7e-954c-a67a60d429af",
   "metadata": {
    "tags": []
   },
   "outputs": [],
   "source": [
    "!pip install html5lib -q\n",
    "!pip install statsmodels -q\n",
    "!pip install pandas -q\n",
    "!pip install numpy -q\n",
    "!pip install seaborn -q\n",
    "!pip install scikit-learn -q\n",
    "!pip install matplotlib -q"
   ]
  },
  {
   "cell_type": "markdown",
   "id": "00c250cf-c295-4390-90f3-d01315b686df",
   "metadata": {},
   "source": [
    "## Imports"
   ]
  },
  {
   "cell_type": "code",
   "execution_count": 2,
   "id": "fcd5c7e6-3887-4ff5-8c29-7426fefc8056",
   "metadata": {
    "tags": []
   },
   "outputs": [],
   "source": [
    "import pandas as pd\n",
    "pd.set_option('display.max_columns', None)\n",
    "import numpy as np\n",
    "import statsmodels.formula.api as smf\n",
    "import statsmodels.api as sm\n",
    "\n",
    "from sklearn.model_selection import train_test_split\n",
    "from sklearn import preprocessing\n",
    "from sklearn.metrics import mean_absolute_error, mean_squared_error\n",
    "\n",
    "import matplotlib.pyplot as plt\n",
    "import seaborn as sns\n",
    "\n",
    "import datetime\n",
    "import time\n",
    "from functools import reduce"
   ]
  },
  {
   "cell_type": "markdown",
   "id": "00ab964b-dff1-44f9-9fa0-fbc1b4f4fe25",
   "metadata": {},
   "source": [
    "# Data"
   ]
  },
  {
   "cell_type": "markdown",
   "id": "394bd958-f881-401a-b50d-601c4f7c565b",
   "metadata": {},
   "source": [
    "## Define SeasonData Object"
   ]
  },
  {
   "cell_type": "code",
   "execution_count": 3,
   "id": "ab4946bf-5d29-46f3-8763-334c4df0f03e",
   "metadata": {
    "tags": []
   },
   "outputs": [],
   "source": [
    "class SeasonsData:\n",
    "    def __init__(self, years):\n",
    "        self.years = years\n",
    "        self.season_tables = {year: self.get_season_tables(year) for year in self.years}\n",
    "        self.season_datasets = {year: self.get_season_datasets(self.season_tables[year]) for year in self.years}\n",
    "        self.complete_dataset =  self.get_complete()\n",
    "        self.shape = self.complete_dataset.shape\n",
    "        \n",
    "    def get_season_tables(self, year):\n",
    "        \"\"\"\n",
    "        Get each table from hockey-reference\n",
    "        season databases\n",
    "        \"\"\"\n",
    "\n",
    "        # -- Define URLS --\n",
    "\n",
    "        ref_url = 'https://www.hockey-reference.com'\n",
    "\n",
    "        basic_ext = f'/leagues/NHL_{year}_skaters.html'\n",
    "        adv_ext = f'/leagues/NHL_{year}_skaters-advanced.html'\n",
    "        shift_ext = f'/leagues/NHL_{year}_skaters-time-on-ice.html'\n",
    "        \n",
    "        #### HAD TO REMOVE MISC BECAUSE IT WASNT TRACKED FOR MOST YEARS\n",
    "        # misc_ext = f'/leagues/NHL_{year}_skaters-misc.html'\n",
    "\n",
    "        url_names = ['basic', 'adv', 'shift',]\n",
    "        url_ext = [basic_ext, adv_ext, shift_ext]\n",
    "\n",
    "        # --- Get Tables ---\n",
    "\n",
    "        raw_tables = {}\n",
    "        print(f'Grabbing {year} season data')\n",
    "        for name, ext in zip(url_names, url_ext):\n",
    "            req = False\n",
    "            fails = 0\n",
    "            while req == False:\n",
    "                sleep_time = 2**fails\n",
    "                try:\n",
    "                    df = pd.read_html(ref_url+ext)[0].apply(lambda x: x.astype(str).str.upper())\n",
    "                    req = True\n",
    "                except:\n",
    "                    fails += 1\n",
    "                    print(fails, 'fails')\n",
    "                    time.sleep(sleep_time)\n",
    "                    pass\n",
    "            li = list(df.columns)\n",
    "            col = [ x[1] for x in li ]\n",
    "            df.columns = col\n",
    "            df = df[df['Rk'] != 'RK'].reset_index(drop=True).sort_values(by='Player')\n",
    "            tot_tm = df[df['Tm'] == 'TOT']\n",
    "            no_dupes = df.drop_duplicates(subset='Player', keep=False)\n",
    "            df = pd.concat([no_dupes, tot_tm])\n",
    "            df_dict = {name: df}\n",
    "            raw_tables.update(df_dict)\n",
    "            print(f'- Grabbed {name}')\n",
    "        \n",
    "        return raw_tables\n",
    "\n",
    "    def get_season_datasets(self, raw_tables):\n",
    "        \"\"\"\n",
    "        Cleans columns of each dataframe and \n",
    "        merges all dataframes into one complete \n",
    "        dataframe\n",
    "        \"\"\"\n",
    "\n",
    "        # Basic Dataframe\n",
    "        basic_df = raw_tables['basic'].drop(['FO%'], axis=1)\n",
    "        basic_df.columns =    [\n",
    "                                'Rk', 'Player', 'Age', 'Tm', 'Pos', 'GP', 'G', 'A', 'PTS', '+/-', 'PIM',\n",
    "                                'PS', 'EV_G', 'PP_G', 'SH_G', 'GW_G', 'EV_A', 'PP_A', 'SH_A', 'S', 'S%', 'TOI',\n",
    "                                'ATOI', 'BLK', 'HIT', 'FOW', 'FOL'\n",
    "                            ]\n",
    "        raw_tables['basic'] = basic_df\n",
    "\n",
    "        # Adv Dataframe\n",
    "        adv_df = raw_tables['adv'].drop(['GP', 'Age', 'Rk', 'Pos'], axis=1)\n",
    "        try:\n",
    "            adv_df = adv_df.drop(['E+/-'], axis=1)\n",
    "        except:\n",
    "            pass\n",
    "        adv_df.columns =    [\n",
    "                                'Player', 'Tm', 'CF', 'CA', 'CF%', 'CF% rel',\n",
    "                                'FF', 'FA', 'FF%', 'FF% rel', 'oiSH%', 'oiSV%', 'PDO', 'oZS%', 'dZS%',\n",
    "                                'TOI/60', 'TOI(EV)', 'TK', 'GV', 'SAtt.', 'Thru%'\n",
    "                            ]\n",
    "        raw_tables['adv'] = adv_df\n",
    "\n",
    "        # Shift Dataframe\n",
    "        shift_df = raw_tables['shift'].drop([\n",
    "            'GP', 'Unnamed: 6_level_1', 'Unnamed: 11_level_1', 'Unnamed: 16_level_1', 'Rk', 'Pos'\n",
    "        ], axis=1)\n",
    "        shift_df.columns =  [\n",
    "                                'Player', 'Tm', 'Shift', 'TOI_EVEN',\n",
    "                                'CF% Rel_EVEN', 'GF/60_EVEN', 'GA/60_EVEN', 'TOI_PP', 'CF% Rel_PP',\n",
    "                                'GF/60_PP', 'GA/60_PP', 'TOI_SH', 'CF% Rel_SH', 'GF/60_SH',\n",
    "                                'GA/60_SH'\n",
    "                            ]\n",
    "        raw_tables['shift'] = shift_df\n",
    "        \n",
    "        #### HAD TO REMOVE MISC BECAUSE IT WASNT TRACKED FOR MOST YEARS\n",
    "        # Misc Dataframe\n",
    "        # misc_df = raw_tables['misc'].drop([\n",
    "        #     'GP', 'Age', 'Made', 'Miss', 'Pct.', 'Rk', 'Pos', '+/-', 'PS'\n",
    "        # ], axis=1)\n",
    "        # try:\n",
    "        #     misc_df = misc_df.drop(['xGF', 'xGA', 'E+/-'], axis=1)\n",
    "        # except:\n",
    "        #     pass\n",
    "        # misc_df.columns  =  [\n",
    "        #                         'Player', 'Tm', 'GC', 'G_PG', 'A_PG', 'PTS_PG', 'GC_PG',\n",
    "        #                         'PIM_PG', 'S_PG', 'G_ADJ', 'A_ADJ', 'PTS_ADJ', 'GC_ADJ', 'TGF', 'PGF', \n",
    "        #                         'TGA', 'PGA', 'OPS', 'DPS', 'Att.'\n",
    "        #                     ]\n",
    "        # raw_tables['misc'] = misc_df\n",
    "\n",
    "        # Full Dataframe\n",
    "        full_data = reduce(\n",
    "            lambda  left,right: pd.merge(\n",
    "                left,right,on=['Player', 'Tm'],\n",
    "                how='outer'\n",
    "            ), [ raw_tables[x] for x in raw_tables.keys() ]\n",
    "        ).drop_duplicates(subset='Player', keep='first').dropna(subset=['Pos'])\n",
    "        \n",
    "        full_data = full_data.replace({\n",
    "            'C': 'F', \n",
    "            'LW': 'F', \n",
    "            'RW': 'F', \n",
    "            'W': 'F', \n",
    "            'NAN': np.nan, \n",
    "            '': np.nan\n",
    "        }).dropna()\n",
    "        \n",
    "        # --- Calculate Fantasy Points ---\n",
    "\n",
    "        g_pts = 3\n",
    "        a_pts = 2\n",
    "        pp_pts = 1\n",
    "        sh_pts = 2\n",
    "        hat_pts = 1\n",
    "        sog_pts = 0.1\n",
    "        hts_pts = 0.1\n",
    "        blk = 0.2\n",
    "        \n",
    "        full_data['FTSY_PTS'] = round(sum([\n",
    "            (full_data['G'].astype(int)*g_pts), \n",
    "            (full_data['A'].astype(int)*a_pts), \n",
    "            (full_data['PP_G'].astype(int)*pp_pts), \n",
    "            (full_data['SH_G'].astype(int)*sh_pts), \n",
    "            # (full_data['HAT']*hat_pts), \n",
    "            (full_data['S'].astype(int)*sog_pts), \n",
    "            (full_data['HIT'].astype(int)*hts_pts), \n",
    "            (full_data['BLK'].astype(int)*blk)\n",
    "        ]),1)\n",
    "\n",
    "        return full_data\n",
    "    \n",
    "    def get_sec(self, time_str):\n",
    "        \"\"\"Get seconds from minutes and seconds.\"\"\"\n",
    "        m, s = time_str.split(':')\n",
    "        return float(int(m) * 60 + int(s))\n",
    "    \n",
    "    def get_complete(self):\n",
    "        complete_df = pd.concat(self.season_datasets.values()).drop(['Rk'], axis=1)\n",
    "        \n",
    "        for col in complete_df:\n",
    "            first = complete_df.loc[0, col].tolist()[0]\n",
    "            try:\n",
    "                float(first)\n",
    "                complete_df[col] = complete_df[col].astype(float)\n",
    "            except:\n",
    "                complete_df[col] = complete_df[col].astype(str)\n",
    "        \n",
    "        time_cols = ['ATOI', 'TOI/60', 'TOI(EV)', 'Shift', 'TOI_EVEN', 'TOI_PP', 'TOI_SH']\n",
    "        for col in time_cols:\n",
    "            complete_df[col] = complete_df[col].apply(lambda time_str: self.get_sec(time_str))\n",
    "        \n",
    "        return complete_df.reset_index(drop=True)\n",
    "    \n",
    "    def __repr__(self):\n",
    "        return repr(self.complete_dataset)"
   ]
  },
  {
   "cell_type": "markdown",
   "id": "05b5f347-093f-4bc8-804f-8494303ba3ce",
   "metadata": {},
   "source": [
    "## Initialize SeasonData Object"
   ]
  },
  {
   "cell_type": "markdown",
   "id": "753976a6-fd2d-43f9-b20c-54a47cf2d5c8",
   "metadata": {},
   "source": [
    "Getting player data from 2008 to the present day would be the ideal dataset, but I keep getting an error:\n",
    "``` Python\n",
    "HTTPError: HTTP Error 429: Too Many Requests\n",
    "```\n",
    "To get arround this, I will be using a smaller dataset."
   ]
  },
  {
   "cell_type": "code",
   "execution_count": 4,
   "id": "157bc704-4ce1-4b3d-9fda-416f90c60fde",
   "metadata": {
    "tags": []
   },
   "outputs": [
    {
     "name": "stdout",
     "output_type": "stream",
     "text": [
      "Grabbing 2014 season data\n",
      "- Grabbed basic\n",
      "- Grabbed adv\n",
      "- Grabbed shift\n",
      "Grabbing 2015 season data\n",
      "- Grabbed basic\n",
      "- Grabbed adv\n",
      "- Grabbed shift\n",
      "Grabbing 2016 season data\n",
      "- Grabbed basic\n",
      "- Grabbed adv\n",
      "- Grabbed shift\n",
      "Grabbing 2017 season data\n",
      "- Grabbed basic\n",
      "- Grabbed adv\n",
      "- Grabbed shift\n",
      "Grabbing 2018 season data\n",
      "- Grabbed basic\n",
      "- Grabbed adv\n",
      "- Grabbed shift\n",
      "Grabbing 2019 season data\n",
      "- Grabbed basic\n",
      "- Grabbed adv\n",
      "- Grabbed shift\n",
      "Grabbing 2020 season data\n",
      "- Grabbed basic\n",
      "- Grabbed adv\n",
      "- Grabbed shift\n",
      "Grabbing 2021 season data\n",
      "- Grabbed basic\n",
      "- Grabbed adv\n",
      "- Grabbed shift\n",
      "Grabbing 2022 season data\n",
      "- Grabbed basic\n",
      "- Grabbed adv\n",
      "- Grabbed shift\n"
     ]
    }
   ],
   "source": [
    "years = list(range(2014, datetime.date.today().year))\n",
    "data = SeasonsData(years)"
   ]
  },
  {
   "cell_type": "markdown",
   "id": "302bce0c-386e-439a-871a-dcfb075a97c2",
   "metadata": {
    "tags": []
   },
   "source": [
    "## Test Attributes and Methods"
   ]
  },
  {
   "cell_type": "code",
   "execution_count": 5,
   "id": "43d356c1-0695-4e44-b014-a42dfb76cff1",
   "metadata": {},
   "outputs": [
    {
     "data": {
      "text/plain": [
       "(4880, 59)"
      ]
     },
     "execution_count": 5,
     "metadata": {},
     "output_type": "execute_result"
    }
   ],
   "source": [
    "data.shape"
   ]
  },
  {
   "cell_type": "markdown",
   "id": "e09be4bf-2f5e-42fb-98a1-786e261310f1",
   "metadata": {},
   "source": [
    "59 columns"
   ]
  },
  {
   "cell_type": "code",
   "execution_count": 6,
   "id": "d1b30b83-e2f8-4083-ab71-d4f76eeb881a",
   "metadata": {
    "tags": []
   },
   "outputs": [
    {
     "data": {
      "text/html": [
       "<div>\n",
       "<style scoped>\n",
       "    .dataframe tbody tr th:only-of-type {\n",
       "        vertical-align: middle;\n",
       "    }\n",
       "\n",
       "    .dataframe tbody tr th {\n",
       "        vertical-align: top;\n",
       "    }\n",
       "\n",
       "    .dataframe thead th {\n",
       "        text-align: right;\n",
       "    }\n",
       "</style>\n",
       "<table border=\"1\" class=\"dataframe\">\n",
       "  <thead>\n",
       "    <tr style=\"text-align: right;\">\n",
       "      <th></th>\n",
       "      <th>Player</th>\n",
       "      <th>Age</th>\n",
       "      <th>Tm</th>\n",
       "      <th>Pos</th>\n",
       "      <th>GP</th>\n",
       "      <th>G</th>\n",
       "      <th>A</th>\n",
       "      <th>PTS</th>\n",
       "      <th>+/-</th>\n",
       "      <th>PIM</th>\n",
       "      <th>PS</th>\n",
       "      <th>EV_G</th>\n",
       "      <th>PP_G</th>\n",
       "      <th>SH_G</th>\n",
       "      <th>GW_G</th>\n",
       "      <th>EV_A</th>\n",
       "      <th>PP_A</th>\n",
       "      <th>SH_A</th>\n",
       "      <th>S</th>\n",
       "      <th>S%</th>\n",
       "      <th>TOI</th>\n",
       "      <th>ATOI</th>\n",
       "      <th>BLK</th>\n",
       "      <th>HIT</th>\n",
       "      <th>FOW</th>\n",
       "      <th>FOL</th>\n",
       "      <th>CF</th>\n",
       "      <th>CA</th>\n",
       "      <th>CF%</th>\n",
       "      <th>CF% rel</th>\n",
       "      <th>FF</th>\n",
       "      <th>FA</th>\n",
       "      <th>FF%</th>\n",
       "      <th>FF% rel</th>\n",
       "      <th>oiSH%</th>\n",
       "      <th>oiSV%</th>\n",
       "      <th>PDO</th>\n",
       "      <th>oZS%</th>\n",
       "      <th>dZS%</th>\n",
       "      <th>TOI/60</th>\n",
       "      <th>TOI(EV)</th>\n",
       "      <th>TK</th>\n",
       "      <th>GV</th>\n",
       "      <th>SAtt.</th>\n",
       "      <th>Thru%</th>\n",
       "      <th>Shift</th>\n",
       "      <th>TOI_EVEN</th>\n",
       "      <th>CF% Rel_EVEN</th>\n",
       "      <th>GF/60_EVEN</th>\n",
       "      <th>GA/60_EVEN</th>\n",
       "      <th>TOI_PP</th>\n",
       "      <th>CF% Rel_PP</th>\n",
       "      <th>GF/60_PP</th>\n",
       "      <th>GA/60_PP</th>\n",
       "      <th>TOI_SH</th>\n",
       "      <th>CF% Rel_SH</th>\n",
       "      <th>GF/60_SH</th>\n",
       "      <th>GA/60_SH</th>\n",
       "      <th>FTSY_PTS</th>\n",
       "    </tr>\n",
       "  </thead>\n",
       "  <tbody>\n",
       "    <tr>\n",
       "      <th>720</th>\n",
       "      <td>CONNOR MCDAVID</td>\n",
       "      <td>19.0</td>\n",
       "      <td>EDM</td>\n",
       "      <td>F</td>\n",
       "      <td>45.0</td>\n",
       "      <td>16.0</td>\n",
       "      <td>32.0</td>\n",
       "      <td>48.0</td>\n",
       "      <td>-1.0</td>\n",
       "      <td>18.0</td>\n",
       "      <td>5.8</td>\n",
       "      <td>13.0</td>\n",
       "      <td>3.0</td>\n",
       "      <td>0.0</td>\n",
       "      <td>5.0</td>\n",
       "      <td>21.0</td>\n",
       "      <td>11.0</td>\n",
       "      <td>0.0</td>\n",
       "      <td>105.0</td>\n",
       "      <td>15.2</td>\n",
       "      <td>850.0</td>\n",
       "      <td>1133.0</td>\n",
       "      <td>10.0</td>\n",
       "      <td>12.0</td>\n",
       "      <td>249.0</td>\n",
       "      <td>355.0</td>\n",
       "      <td>709.0</td>\n",
       "      <td>629.0</td>\n",
       "      <td>53.0</td>\n",
       "      <td>6.2</td>\n",
       "      <td>529.0</td>\n",
       "      <td>472.0</td>\n",
       "      <td>52.8</td>\n",
       "      <td>6.9</td>\n",
       "      <td>10.5</td>\n",
       "      <td>87.7</td>\n",
       "      <td>98.2</td>\n",
       "      <td>53.5</td>\n",
       "      <td>46.5</td>\n",
       "      <td>1133.0</td>\n",
       "      <td>896.0</td>\n",
       "      <td>33.0</td>\n",
       "      <td>17.0</td>\n",
       "      <td>156.0</td>\n",
       "      <td>67.3</td>\n",
       "      <td>42.0</td>\n",
       "      <td>908.0</td>\n",
       "      <td>6.2</td>\n",
       "      <td>3.7</td>\n",
       "      <td>3.7</td>\n",
       "      <td>177.0</td>\n",
       "      <td>5.7</td>\n",
       "      <td>8.3</td>\n",
       "      <td>0.5</td>\n",
       "      <td>46.0</td>\n",
       "      <td>7.1</td>\n",
       "      <td>0.0</td>\n",
       "      <td>3.8</td>\n",
       "      <td>128.7</td>\n",
       "    </tr>\n",
       "    <tr>\n",
       "      <th>1315</th>\n",
       "      <td>CONNOR MCDAVID</td>\n",
       "      <td>20.0</td>\n",
       "      <td>EDM</td>\n",
       "      <td>F</td>\n",
       "      <td>82.0</td>\n",
       "      <td>30.0</td>\n",
       "      <td>70.0</td>\n",
       "      <td>100.0</td>\n",
       "      <td>27.0</td>\n",
       "      <td>26.0</td>\n",
       "      <td>12.8</td>\n",
       "      <td>26.0</td>\n",
       "      <td>3.0</td>\n",
       "      <td>1.0</td>\n",
       "      <td>6.0</td>\n",
       "      <td>45.0</td>\n",
       "      <td>24.0</td>\n",
       "      <td>1.0</td>\n",
       "      <td>251.0</td>\n",
       "      <td>12.0</td>\n",
       "      <td>1733.0</td>\n",
       "      <td>1268.0</td>\n",
       "      <td>29.0</td>\n",
       "      <td>34.0</td>\n",
       "      <td>348.0</td>\n",
       "      <td>458.0</td>\n",
       "      <td>1479.0</td>\n",
       "      <td>1272.0</td>\n",
       "      <td>53.8</td>\n",
       "      <td>5.6</td>\n",
       "      <td>1112.0</td>\n",
       "      <td>917.0</td>\n",
       "      <td>54.8</td>\n",
       "      <td>5.6</td>\n",
       "      <td>10.9</td>\n",
       "      <td>91.0</td>\n",
       "      <td>101.9</td>\n",
       "      <td>56.2</td>\n",
       "      <td>43.8</td>\n",
       "      <td>1268.0</td>\n",
       "      <td>1031.0</td>\n",
       "      <td>76.0</td>\n",
       "      <td>54.0</td>\n",
       "      <td>420.0</td>\n",
       "      <td>59.8</td>\n",
       "      <td>51.0</td>\n",
       "      <td>1037.0</td>\n",
       "      <td>5.6</td>\n",
       "      <td>3.7</td>\n",
       "      <td>2.6</td>\n",
       "      <td>182.0</td>\n",
       "      <td>-1.9</td>\n",
       "      <td>9.8</td>\n",
       "      <td>0.9</td>\n",
       "      <td>48.0</td>\n",
       "      <td>-2.6</td>\n",
       "      <td>1.8</td>\n",
       "      <td>7.3</td>\n",
       "      <td>269.3</td>\n",
       "    </tr>\n",
       "    <tr>\n",
       "      <th>1912</th>\n",
       "      <td>CONNOR MCDAVID</td>\n",
       "      <td>21.0</td>\n",
       "      <td>EDM</td>\n",
       "      <td>F</td>\n",
       "      <td>82.0</td>\n",
       "      <td>41.0</td>\n",
       "      <td>67.0</td>\n",
       "      <td>108.0</td>\n",
       "      <td>20.0</td>\n",
       "      <td>26.0</td>\n",
       "      <td>13.1</td>\n",
       "      <td>35.0</td>\n",
       "      <td>5.0</td>\n",
       "      <td>1.0</td>\n",
       "      <td>7.0</td>\n",
       "      <td>49.0</td>\n",
       "      <td>15.0</td>\n",
       "      <td>3.0</td>\n",
       "      <td>274.0</td>\n",
       "      <td>15.0</td>\n",
       "      <td>1767.0</td>\n",
       "      <td>1293.0</td>\n",
       "      <td>46.0</td>\n",
       "      <td>28.0</td>\n",
       "      <td>376.0</td>\n",
       "      <td>533.0</td>\n",
       "      <td>1643.0</td>\n",
       "      <td>1442.0</td>\n",
       "      <td>53.3</td>\n",
       "      <td>3.8</td>\n",
       "      <td>1259.0</td>\n",
       "      <td>1066.0</td>\n",
       "      <td>54.2</td>\n",
       "      <td>4.4</td>\n",
       "      <td>10.5</td>\n",
       "      <td>90.5</td>\n",
       "      <td>100.9</td>\n",
       "      <td>55.6</td>\n",
       "      <td>44.4</td>\n",
       "      <td>1292.0</td>\n",
       "      <td>1038.0</td>\n",
       "      <td>111.0</td>\n",
       "      <td>67.0</td>\n",
       "      <td>433.0</td>\n",
       "      <td>63.5</td>\n",
       "      <td>58.0</td>\n",
       "      <td>1049.0</td>\n",
       "      <td>3.8</td>\n",
       "      <td>4.0</td>\n",
       "      <td>3.2</td>\n",
       "      <td>177.0</td>\n",
       "      <td>1.3</td>\n",
       "      <td>5.3</td>\n",
       "      <td>1.0</td>\n",
       "      <td>65.0</td>\n",
       "      <td>5.8</td>\n",
       "      <td>3.0</td>\n",
       "      <td>6.1</td>\n",
       "      <td>303.4</td>\n",
       "    </tr>\n",
       "    <tr>\n",
       "      <th>2490</th>\n",
       "      <td>CONNOR MCDAVID</td>\n",
       "      <td>22.0</td>\n",
       "      <td>EDM</td>\n",
       "      <td>F</td>\n",
       "      <td>78.0</td>\n",
       "      <td>41.0</td>\n",
       "      <td>75.0</td>\n",
       "      <td>116.0</td>\n",
       "      <td>3.0</td>\n",
       "      <td>20.0</td>\n",
       "      <td>13.0</td>\n",
       "      <td>31.0</td>\n",
       "      <td>9.0</td>\n",
       "      <td>1.0</td>\n",
       "      <td>9.0</td>\n",
       "      <td>50.0</td>\n",
       "      <td>24.0</td>\n",
       "      <td>1.0</td>\n",
       "      <td>240.0</td>\n",
       "      <td>17.1</td>\n",
       "      <td>1781.0</td>\n",
       "      <td>1370.0</td>\n",
       "      <td>30.0</td>\n",
       "      <td>39.0</td>\n",
       "      <td>428.0</td>\n",
       "      <td>490.0</td>\n",
       "      <td>1466.0</td>\n",
       "      <td>1436.0</td>\n",
       "      <td>50.5</td>\n",
       "      <td>3.8</td>\n",
       "      <td>1110.0</td>\n",
       "      <td>1109.0</td>\n",
       "      <td>50.0</td>\n",
       "      <td>3.3</td>\n",
       "      <td>12.2</td>\n",
       "      <td>88.5</td>\n",
       "      <td>100.7</td>\n",
       "      <td>57.2</td>\n",
       "      <td>42.8</td>\n",
       "      <td>1370.0</td>\n",
       "      <td>1127.0</td>\n",
       "      <td>99.0</td>\n",
       "      <td>89.0</td>\n",
       "      <td>422.0</td>\n",
       "      <td>56.6</td>\n",
       "      <td>55.0</td>\n",
       "      <td>1127.0</td>\n",
       "      <td>3.8</td>\n",
       "      <td>4.0</td>\n",
       "      <td>3.8</td>\n",
       "      <td>205.0</td>\n",
       "      <td>8.1</td>\n",
       "      <td>9.4</td>\n",
       "      <td>0.7</td>\n",
       "      <td>37.0</td>\n",
       "      <td>13.7</td>\n",
       "      <td>3.7</td>\n",
       "      <td>12.3</td>\n",
       "      <td>317.9</td>\n",
       "    </tr>\n",
       "    <tr>\n",
       "      <th>3070</th>\n",
       "      <td>CONNOR MCDAVID</td>\n",
       "      <td>23.0</td>\n",
       "      <td>EDM</td>\n",
       "      <td>F</td>\n",
       "      <td>64.0</td>\n",
       "      <td>34.0</td>\n",
       "      <td>63.0</td>\n",
       "      <td>97.0</td>\n",
       "      <td>-6.0</td>\n",
       "      <td>28.0</td>\n",
       "      <td>10.9</td>\n",
       "      <td>23.0</td>\n",
       "      <td>11.0</td>\n",
       "      <td>0.0</td>\n",
       "      <td>6.0</td>\n",
       "      <td>31.0</td>\n",
       "      <td>32.0</td>\n",
       "      <td>0.0</td>\n",
       "      <td>212.0</td>\n",
       "      <td>16.0</td>\n",
       "      <td>1399.0</td>\n",
       "      <td>1312.0</td>\n",
       "      <td>18.0</td>\n",
       "      <td>37.0</td>\n",
       "      <td>320.0</td>\n",
       "      <td>350.0</td>\n",
       "      <td>1049.0</td>\n",
       "      <td>1118.0</td>\n",
       "      <td>48.4</td>\n",
       "      <td>1.0</td>\n",
       "      <td>819.0</td>\n",
       "      <td>872.0</td>\n",
       "      <td>48.4</td>\n",
       "      <td>-0.1</td>\n",
       "      <td>11.4</td>\n",
       "      <td>89.3</td>\n",
       "      <td>100.7</td>\n",
       "      <td>57.5</td>\n",
       "      <td>42.5</td>\n",
       "      <td>1312.0</td>\n",
       "      <td>1051.0</td>\n",
       "      <td>53.0</td>\n",
       "      <td>75.0</td>\n",
       "      <td>339.0</td>\n",
       "      <td>62.5</td>\n",
       "      <td>52.0</td>\n",
       "      <td>1072.0</td>\n",
       "      <td>1.0</td>\n",
       "      <td>3.7</td>\n",
       "      <td>3.7</td>\n",
       "      <td>233.0</td>\n",
       "      <td>-2.3</td>\n",
       "      <td>12.4</td>\n",
       "      <td>1.9</td>\n",
       "      <td>6.0</td>\n",
       "      <td>-10.5</td>\n",
       "      <td>0.0</td>\n",
       "      <td>2.7</td>\n",
       "      <td>267.5</td>\n",
       "    </tr>\n",
       "    <tr>\n",
       "      <th>3681</th>\n",
       "      <td>CONNOR MCDAVID</td>\n",
       "      <td>24.0</td>\n",
       "      <td>EDM</td>\n",
       "      <td>F</td>\n",
       "      <td>56.0</td>\n",
       "      <td>33.0</td>\n",
       "      <td>72.0</td>\n",
       "      <td>105.0</td>\n",
       "      <td>21.0</td>\n",
       "      <td>20.0</td>\n",
       "      <td>13.0</td>\n",
       "      <td>24.0</td>\n",
       "      <td>9.0</td>\n",
       "      <td>0.0</td>\n",
       "      <td>11.0</td>\n",
       "      <td>44.0</td>\n",
       "      <td>28.0</td>\n",
       "      <td>0.0</td>\n",
       "      <td>200.0</td>\n",
       "      <td>16.5</td>\n",
       "      <td>1241.0</td>\n",
       "      <td>1329.0</td>\n",
       "      <td>24.0</td>\n",
       "      <td>61.0</td>\n",
       "      <td>316.0</td>\n",
       "      <td>322.0</td>\n",
       "      <td>1066.0</td>\n",
       "      <td>865.0</td>\n",
       "      <td>55.2</td>\n",
       "      <td>10.5</td>\n",
       "      <td>810.0</td>\n",
       "      <td>667.0</td>\n",
       "      <td>54.8</td>\n",
       "      <td>9.8</td>\n",
       "      <td>12.1</td>\n",
       "      <td>89.1</td>\n",
       "      <td>101.2</td>\n",
       "      <td>62.4</td>\n",
       "      <td>37.6</td>\n",
       "      <td>1329.0</td>\n",
       "      <td>1069.0</td>\n",
       "      <td>36.0</td>\n",
       "      <td>47.0</td>\n",
       "      <td>314.0</td>\n",
       "      <td>63.7</td>\n",
       "      <td>57.0</td>\n",
       "      <td>1071.0</td>\n",
       "      <td>10.5</td>\n",
       "      <td>4.5</td>\n",
       "      <td>3.2</td>\n",
       "      <td>251.0</td>\n",
       "      <td>6.9</td>\n",
       "      <td>11.9</td>\n",
       "      <td>1.0</td>\n",
       "      <td>6.0</td>\n",
       "      <td>39.1</td>\n",
       "      <td>0.0</td>\n",
       "      <td>0.0</td>\n",
       "      <td>282.9</td>\n",
       "    </tr>\n",
       "    <tr>\n",
       "      <th>4305</th>\n",
       "      <td>CONNOR MCDAVID</td>\n",
       "      <td>25.0</td>\n",
       "      <td>EDM</td>\n",
       "      <td>F</td>\n",
       "      <td>80.0</td>\n",
       "      <td>44.0</td>\n",
       "      <td>79.0</td>\n",
       "      <td>123.0</td>\n",
       "      <td>28.0</td>\n",
       "      <td>45.0</td>\n",
       "      <td>14.0</td>\n",
       "      <td>34.0</td>\n",
       "      <td>10.0</td>\n",
       "      <td>0.0</td>\n",
       "      <td>9.0</td>\n",
       "      <td>44.0</td>\n",
       "      <td>34.0</td>\n",
       "      <td>1.0</td>\n",
       "      <td>314.0</td>\n",
       "      <td>14.0</td>\n",
       "      <td>1765.0</td>\n",
       "      <td>1324.0</td>\n",
       "      <td>26.0</td>\n",
       "      <td>75.0</td>\n",
       "      <td>562.0</td>\n",
       "      <td>484.0</td>\n",
       "      <td>1670.0</td>\n",
       "      <td>1265.0</td>\n",
       "      <td>56.9</td>\n",
       "      <td>7.2</td>\n",
       "      <td>1278.0</td>\n",
       "      <td>987.0</td>\n",
       "      <td>56.4</td>\n",
       "      <td>7.9</td>\n",
       "      <td>10.1</td>\n",
       "      <td>91.0</td>\n",
       "      <td>101.1</td>\n",
       "      <td>56.3</td>\n",
       "      <td>43.7</td>\n",
       "      <td>1324.0</td>\n",
       "      <td>1088.0</td>\n",
       "      <td>73.0</td>\n",
       "      <td>68.0</td>\n",
       "      <td>481.0</td>\n",
       "      <td>65.5</td>\n",
       "      <td>59.0</td>\n",
       "      <td>1088.0</td>\n",
       "      <td>7.2</td>\n",
       "      <td>4.0</td>\n",
       "      <td>2.7</td>\n",
       "      <td>223.0</td>\n",
       "      <td>5.1</td>\n",
       "      <td>10.7</td>\n",
       "      <td>0.8</td>\n",
       "      <td>12.0</td>\n",
       "      <td>6.2</td>\n",
       "      <td>3.7</td>\n",
       "      <td>3.7</td>\n",
       "      <td>344.1</td>\n",
       "    </tr>\n",
       "  </tbody>\n",
       "</table>\n",
       "</div>"
      ],
      "text/plain": [
       "              Player   Age   Tm Pos    GP     G     A    PTS   +/-   PIM  \\\n",
       "720   CONNOR MCDAVID  19.0  EDM   F  45.0  16.0  32.0   48.0  -1.0  18.0   \n",
       "1315  CONNOR MCDAVID  20.0  EDM   F  82.0  30.0  70.0  100.0  27.0  26.0   \n",
       "1912  CONNOR MCDAVID  21.0  EDM   F  82.0  41.0  67.0  108.0  20.0  26.0   \n",
       "2490  CONNOR MCDAVID  22.0  EDM   F  78.0  41.0  75.0  116.0   3.0  20.0   \n",
       "3070  CONNOR MCDAVID  23.0  EDM   F  64.0  34.0  63.0   97.0  -6.0  28.0   \n",
       "3681  CONNOR MCDAVID  24.0  EDM   F  56.0  33.0  72.0  105.0  21.0  20.0   \n",
       "4305  CONNOR MCDAVID  25.0  EDM   F  80.0  44.0  79.0  123.0  28.0  45.0   \n",
       "\n",
       "        PS  EV_G  PP_G  SH_G  GW_G  EV_A  PP_A  SH_A      S    S%     TOI  \\\n",
       "720    5.8  13.0   3.0   0.0   5.0  21.0  11.0   0.0  105.0  15.2   850.0   \n",
       "1315  12.8  26.0   3.0   1.0   6.0  45.0  24.0   1.0  251.0  12.0  1733.0   \n",
       "1912  13.1  35.0   5.0   1.0   7.0  49.0  15.0   3.0  274.0  15.0  1767.0   \n",
       "2490  13.0  31.0   9.0   1.0   9.0  50.0  24.0   1.0  240.0  17.1  1781.0   \n",
       "3070  10.9  23.0  11.0   0.0   6.0  31.0  32.0   0.0  212.0  16.0  1399.0   \n",
       "3681  13.0  24.0   9.0   0.0  11.0  44.0  28.0   0.0  200.0  16.5  1241.0   \n",
       "4305  14.0  34.0  10.0   0.0   9.0  44.0  34.0   1.0  314.0  14.0  1765.0   \n",
       "\n",
       "        ATOI   BLK   HIT    FOW    FOL      CF      CA   CF%  CF% rel      FF  \\\n",
       "720   1133.0  10.0  12.0  249.0  355.0   709.0   629.0  53.0      6.2   529.0   \n",
       "1315  1268.0  29.0  34.0  348.0  458.0  1479.0  1272.0  53.8      5.6  1112.0   \n",
       "1912  1293.0  46.0  28.0  376.0  533.0  1643.0  1442.0  53.3      3.8  1259.0   \n",
       "2490  1370.0  30.0  39.0  428.0  490.0  1466.0  1436.0  50.5      3.8  1110.0   \n",
       "3070  1312.0  18.0  37.0  320.0  350.0  1049.0  1118.0  48.4      1.0   819.0   \n",
       "3681  1329.0  24.0  61.0  316.0  322.0  1066.0   865.0  55.2     10.5   810.0   \n",
       "4305  1324.0  26.0  75.0  562.0  484.0  1670.0  1265.0  56.9      7.2  1278.0   \n",
       "\n",
       "          FA   FF%  FF% rel  oiSH%  oiSV%    PDO  oZS%  dZS%  TOI/60  TOI(EV)  \\\n",
       "720    472.0  52.8      6.9   10.5   87.7   98.2  53.5  46.5  1133.0    896.0   \n",
       "1315   917.0  54.8      5.6   10.9   91.0  101.9  56.2  43.8  1268.0   1031.0   \n",
       "1912  1066.0  54.2      4.4   10.5   90.5  100.9  55.6  44.4  1292.0   1038.0   \n",
       "2490  1109.0  50.0      3.3   12.2   88.5  100.7  57.2  42.8  1370.0   1127.0   \n",
       "3070   872.0  48.4     -0.1   11.4   89.3  100.7  57.5  42.5  1312.0   1051.0   \n",
       "3681   667.0  54.8      9.8   12.1   89.1  101.2  62.4  37.6  1329.0   1069.0   \n",
       "4305   987.0  56.4      7.9   10.1   91.0  101.1  56.3  43.7  1324.0   1088.0   \n",
       "\n",
       "         TK    GV  SAtt.  Thru%  Shift  TOI_EVEN  CF% Rel_EVEN  GF/60_EVEN  \\\n",
       "720    33.0  17.0  156.0   67.3   42.0     908.0           6.2         3.7   \n",
       "1315   76.0  54.0  420.0   59.8   51.0    1037.0           5.6         3.7   \n",
       "1912  111.0  67.0  433.0   63.5   58.0    1049.0           3.8         4.0   \n",
       "2490   99.0  89.0  422.0   56.6   55.0    1127.0           3.8         4.0   \n",
       "3070   53.0  75.0  339.0   62.5   52.0    1072.0           1.0         3.7   \n",
       "3681   36.0  47.0  314.0   63.7   57.0    1071.0          10.5         4.5   \n",
       "4305   73.0  68.0  481.0   65.5   59.0    1088.0           7.2         4.0   \n",
       "\n",
       "      GA/60_EVEN  TOI_PP  CF% Rel_PP  GF/60_PP  GA/60_PP  TOI_SH  CF% Rel_SH  \\\n",
       "720          3.7   177.0         5.7       8.3       0.5    46.0         7.1   \n",
       "1315         2.6   182.0        -1.9       9.8       0.9    48.0        -2.6   \n",
       "1912         3.2   177.0         1.3       5.3       1.0    65.0         5.8   \n",
       "2490         3.8   205.0         8.1       9.4       0.7    37.0        13.7   \n",
       "3070         3.7   233.0        -2.3      12.4       1.9     6.0       -10.5   \n",
       "3681         3.2   251.0         6.9      11.9       1.0     6.0        39.1   \n",
       "4305         2.7   223.0         5.1      10.7       0.8    12.0         6.2   \n",
       "\n",
       "      GF/60_SH  GA/60_SH  FTSY_PTS  \n",
       "720        0.0       3.8     128.7  \n",
       "1315       1.8       7.3     269.3  \n",
       "1912       3.0       6.1     303.4  \n",
       "2490       3.7      12.3     317.9  \n",
       "3070       0.0       2.7     267.5  \n",
       "3681       0.0       0.0     282.9  \n",
       "4305       3.7       3.7     344.1  "
      ]
     },
     "execution_count": 6,
     "metadata": {},
     "output_type": "execute_result"
    }
   ],
   "source": [
    "data.complete_dataset.query('Player == \"CONNOR MCDAVID\"')"
   ]
  },
  {
   "cell_type": "markdown",
   "id": "040974e8-402c-4673-b588-8547da319eb6",
   "metadata": {},
   "source": [
    "# Preprocess Data"
   ]
  },
  {
   "cell_type": "markdown",
   "id": "7a63c786-8b65-4a94-9204-1348709ad875",
   "metadata": {},
   "source": [
    "The X dataframe is the independant variable and y is the dependent variable."
   ]
  },
  {
   "cell_type": "code",
   "execution_count": 7,
   "id": "572ddae4-6076-401a-9345-3f2964ef7efa",
   "metadata": {},
   "outputs": [],
   "source": [
    "dataset = data.complete_dataset\n",
    "\n",
    "# Inputs\n",
    "X = dataset.drop(['Player', 'Tm'], axis=1)\n",
    "\n",
    "# Output\n",
    "y = dataset['FTSY_PTS']"
   ]
  },
  {
   "cell_type": "markdown",
   "id": "125353a8-e1f1-4305-b748-2f27435d1adb",
   "metadata": {},
   "source": [
    "## Preprocess X"
   ]
  },
  {
   "cell_type": "markdown",
   "id": "51825129-9e3f-4ff8-9e94-00115b23753e",
   "metadata": {},
   "source": [
    "### Drop Variables associated with FTSY_PTS"
   ]
  },
  {
   "cell_type": "markdown",
   "id": "352912a0-9006-4b44-840d-20d321abb9a6",
   "metadata": {},
   "source": [
    "The goal of this model is to not rely on the variables, which are directly connected to the production of points (fantasy system). Thus, I removed the variables which are connected to the fantasy points formula: goals, assists, power play goals, power play assists, short handed goals, short handed assists, even goals, even assists, points share, game winning goals, blocks, hits, points (nhl system)."
   ]
  },
  {
   "cell_type": "code",
   "execution_count": 8,
   "id": "02065db1-b961-4c10-8192-671232e304d0",
   "metadata": {
    "tags": []
   },
   "outputs": [],
   "source": [
    "to_drop = [\n",
    "    'G', 'A', 'PP_G','SH_G', 'GW_G', 'EV_G', 'PS',\n",
    "    'PP_A', 'SH_A', 'BLK','HIT', 'EV_A', 'PTS','S%'\n",
    "]\n",
    "X = X.drop(to_drop, axis=1)"
   ]
  },
  {
   "cell_type": "markdown",
   "id": "c2ce8857-5ac7-4615-b4fe-4b41977a52ef",
   "metadata": {},
   "source": [
    "### Get Dummies For Pos Column"
   ]
  },
  {
   "cell_type": "markdown",
   "id": "8e1f9a9b-078c-401f-b023-90e2f00054ca",
   "metadata": {},
   "source": [
    "Since, we cannot input categorical variables into the model, I created columns which determines the player's position as a 1 or 0. We drop the first column after creating dummies, to achieve this and to avoid any problems. The value than I dropped will get absorbed into the constant."
   ]
  },
  {
   "cell_type": "code",
   "execution_count": 9,
   "id": "8f3f66bf-8f38-4f4c-8fcf-d434c333bd6a",
   "metadata": {},
   "outputs": [],
   "source": [
    "posd = pd.get_dummies(X.Pos, drop_first=True)\n",
    "X = pd.concat([X, posd],axis=1).drop(['Pos'], axis=1)"
   ]
  },
  {
   "cell_type": "markdown",
   "id": "3beeca1f-408f-4aaf-aaf0-310e8f08cba2",
   "metadata": {},
   "source": [
    "### Add Polynomial Features"
   ]
  },
  {
   "cell_type": "code",
   "execution_count": 10,
   "id": "d2bc0d12-0226-4226-b253-865df45ea9bc",
   "metadata": {},
   "outputs": [
    {
     "data": {
      "image/png": "[encoded data removed]",
      "text/plain": [
       "<Figure size 1000x1000 with 25 Axes>"
      ]
     },
     "metadata": {},
     "output_type": "display_data"
    }
   ],
   "source": [
    "fig, ax = plt.subplots(5,5, figsize=(10,10))\n",
    "\n",
    "cols = X.columns\n",
    "col_idx = 0\n",
    "for i1 in range(5):\n",
    "    for i2 in range(5):\n",
    "        ax[i1,i2].scatter(X[cols[col_idx]], y)\n",
    "        ax[i1,i2].set_title(cols[col_idx])\n",
    "        col_idx+=1\n",
    "        \n",
    "fig.tight_layout()"
   ]
  },
  {
   "cell_type": "markdown",
   "id": "73bca6ee-ec6b-4eaf-bfff-0bc23d0a1575",
   "metadata": {},
   "source": [
    "By looking at the scatter plots, it seems like a polynomial will fit better in some cases. I'll add second degree polynomial features to the data."
   ]
  },
  {
   "cell_type": "code",
   "execution_count": 11,
   "id": "8137fdc6-4269-4f6e-8b5d-2a94b70d908b",
   "metadata": {
    "tags": []
   },
   "outputs": [],
   "source": [
    "degree = 2\n",
    "for col in X:\n",
    "    X[col+f'_{degree}'] = X[col] ** degree"
   ]
  },
  {
   "cell_type": "markdown",
   "id": "1bed7c5a-acd0-4b1c-bafb-aab13cfd2ae7",
   "metadata": {
    "tags": []
   },
   "source": [
    "### Drop Highly Correlated Columns"
   ]
  },
  {
   "cell_type": "markdown",
   "id": "2a4fbe4b-53bf-4689-83a8-a3180fd077bf",
   "metadata": {},
   "source": [
    "To avoid bad p-values off the start, I'm removing highly correlated variables (correlation coefficient over 0.8)."
   ]
  },
  {
   "cell_type": "code",
   "execution_count": 12,
   "id": "056aba30-95d1-4e6b-98c5-051c7fb24eb1",
   "metadata": {},
   "outputs": [
    {
     "data": {
      "text/plain": [
       "<AxesSubplot:>"
      ]
     },
     "execution_count": 12,
     "metadata": {},
     "output_type": "execute_result"
    },
    {
     "data": {
      "image/png": "[encoded data removed]",
      "text/plain": [
       "<Figure size 640x480 with 2 Axes>"
      ]
     },
     "metadata": {},
     "output_type": "display_data"
    }
   ],
   "source": [
    "sns.heatmap(X.corr().abs())"
   ]
  },
  {
   "cell_type": "code",
   "execution_count": 13,
   "id": "52d4ab5e-ac20-44af-8794-e18aee907546",
   "metadata": {},
   "outputs": [
    {
     "name": "stdout",
     "output_type": "stream",
     "text": [
      "Dropped: \n",
      " ['TOI', 'FOL', 'CF', 'CA', 'FF', 'FA', 'FF%', 'FF% rel', 'dZS%', 'TOI/60', 'TOI(EV)', 'GV', 'SAtt.', 'TOI_EVEN', 'CF% Rel_EVEN', 'GF/60_EVEN', 'GA/60_EVEN', 'FTSY_PTS', 'Age_2', 'GP_2', 'PIM_2', 'S_2', 'TOI_2', 'ATOI_2', 'FOW_2', 'FOL_2', 'CF_2', 'CA_2', 'CF%_2', 'FF_2', 'FA_2', 'FF%_2', 'FF% rel_2', 'oiSH%_2', 'oiSV%_2', 'PDO_2', 'oZS%_2', 'dZS%_2', 'TOI/60_2', 'TOI(EV)_2', 'TK_2', 'GV_2', 'SAtt._2', 'Thru%_2', 'Shift_2', 'TOI_EVEN_2', 'CF% Rel_EVEN_2', 'GF/60_EVEN_2', 'GA/60_EVEN_2', 'TOI_PP_2', 'CF% Rel_PP_2', 'GA/60_PP_2', 'TOI_SH_2', 'CF% Rel_SH_2', 'GF/60_SH_2', 'FTSY_PTS_2', 'F_2']\n"
     ]
    },
    {
     "name": "stderr",
     "output_type": "stream",
     "text": [
      "/tmp/ipykernel_56729/591815908.py:3: DeprecationWarning: `np.bool` is a deprecated alias for the builtin `bool`. To silence this warning, use `bool` by itself. Doing this will not modify any behavior and is safe. If you specifically wanted the numpy scalar type, use `np.bool_` here.\n",
      "Deprecated in NumPy 1.20; for more details and guidance: https://numpy.org/devdocs/release/1.20.0-notes.html#deprecations\n",
      "  upper_tri = cor_matrix.where(np.triu(np.ones(cor_matrix.shape),k=1).astype(np.bool))\n"
     ]
    }
   ],
   "source": [
    "# Drop highly correlated values\n",
    "cor_matrix = X.corr().abs()\n",
    "upper_tri = cor_matrix.where(np.triu(np.ones(cor_matrix.shape),k=1).astype(np.bool))\n",
    "to_drop = [column for column in upper_tri.columns if any(upper_tri[column] >= 0.8)]\n",
    "X = X.drop(to_drop, axis=1)\n",
    "\n",
    "print('Dropped: \\n', to_drop)"
   ]
  },
  {
   "cell_type": "markdown",
   "id": "da7df5dc-a54c-40f6-842d-15bacb6ed9dd",
   "metadata": {},
   "source": [
    "### Normalize Data"
   ]
  },
  {
   "cell_type": "markdown",
   "id": "608c4ca1-6506-428c-84e7-2f44984f69af",
   "metadata": {},
   "source": [
    "There are big differences in the data, in terms of scale and ranges. To combat this, I decided to normalize the data"
   ]
  },
  {
   "cell_type": "code",
   "execution_count": 14,
   "id": "6b9f6f2c-878e-42e2-9874-163dfb42385e",
   "metadata": {},
   "outputs": [],
   "source": [
    "X_norm = preprocessing.normalize(X)\n",
    "X = pd.DataFrame(X_norm, columns =list(X.columns))"
   ]
  },
  {
   "cell_type": "markdown",
   "id": "bb093428-cdde-4fd2-9bb2-f987382a18ce",
   "metadata": {},
   "source": [
    "## Preprocess Y"
   ]
  },
  {
   "cell_type": "code",
   "execution_count": 15,
   "id": "613d2a58-93ed-4c20-8ffd-7ce43e78d14d",
   "metadata": {},
   "outputs": [
    {
     "data": {
      "text/plain": [
       "Text(0.5, 1.0, 'Log Treated')"
      ]
     },
     "execution_count": 15,
     "metadata": {},
     "output_type": "execute_result"
    },
    {
     "data": {
      "image/png": "[encoded data removed]",
      "text/plain": [
       "<Figure size 1000x400 with 2 Axes>"
      ]
     },
     "metadata": {},
     "output_type": "display_data"
    }
   ],
   "source": [
    "fig, (ax1, ax2) = plt.subplots(1,2, figsize=(10,4))\n",
    "ax1.hist(y)\n",
    "ax1.set_title('Not Log Treated')\n",
    "ax2.hist(np.log(y))\n",
    "ax2.set_title('Log Treated')"
   ]
  },
  {
   "cell_type": "markdown",
   "id": "6e5cc417-da7b-41c4-a7a7-a35d9595cc4a",
   "metadata": {},
   "source": [
    "After looking at the distribution of dependent variable, it is clear that the mean is skewed to one side. To help achieve a distribution which is closer to a normal distribution, I decided to use np.log."
   ]
  },
  {
   "cell_type": "code",
   "execution_count": 16,
   "id": "2eadb492-942b-4010-af31-dce0c7413ad9",
   "metadata": {},
   "outputs": [],
   "source": [
    "y = np.log(y)"
   ]
  },
  {
   "cell_type": "markdown",
   "id": "f97b5c86-7a2f-471a-9342-e786fc01fca2",
   "metadata": {},
   "source": [
    "# OLS Model"
   ]
  },
  {
   "cell_type": "markdown",
   "id": "89d5de62-8496-4c6e-ad1e-3149db14bef2",
   "metadata": {},
   "source": [
    "## Split Data"
   ]
  },
  {
   "cell_type": "code",
   "execution_count": 17,
   "id": "a838bc49-4c83-4d5b-9e24-9164da7c8ee6",
   "metadata": {},
   "outputs": [],
   "source": [
    "X_train, X_test, y_train, y_test = train_test_split(X, y, test_size=0.2, random_state=42)"
   ]
  },
  {
   "cell_type": "markdown",
   "id": "02a97edf-d3a5-4522-b67a-cfac6ebdac0d",
   "metadata": {
    "tags": []
   },
   "source": [
    "## Fit Model"
   ]
  },
  {
   "cell_type": "markdown",
   "id": "ecb3d7d6-0b99-47e9-a237-5cbcb2413f46",
   "metadata": {},
   "source": [
    "Adding a constant to X will help the fit."
   ]
  },
  {
   "cell_type": "code",
   "execution_count": 18,
   "id": "4fa1a6eb-a15d-4d57-a876-50e880e5b6df",
   "metadata": {
    "tags": []
   },
   "outputs": [
    {
     "data": {
      "text/html": [
       "<table class=\"simpletable\">\n",
       "<caption>OLS Regression Results</caption>\n",
       "<tr>\n",
       "  <th>Dep. Variable:</th>        <td>FTSY_PTS</td>     <th>  R-squared:         </th> <td>   0.847</td>\n",
       "</tr>\n",
       "<tr>\n",
       "  <th>Model:</th>                   <td>OLS</td>       <th>  Adj. R-squared:    </th> <td>   0.846</td>\n",
       "</tr>\n",
       "<tr>\n",
       "  <th>Method:</th>             <td>Least Squares</td>  <th>  F-statistic:       </th> <td>   621.0</td>\n",
       "</tr>\n",
       "<tr>\n",
       "  <th>Date:</th>             <td>Mon, 27 Feb 2023</td> <th>  Prob (F-statistic):</th>  <td>  0.00</td> \n",
       "</tr>\n",
       "<tr>\n",
       "  <th>Time:</th>                 <td>19:48:40</td>     <th>  Log-Likelihood:    </th> <td> -1583.2</td>\n",
       "</tr>\n",
       "<tr>\n",
       "  <th>No. Observations:</th>      <td>  3904</td>      <th>  AIC:               </th> <td>   3226.</td>\n",
       "</tr>\n",
       "<tr>\n",
       "  <th>Df Residuals:</th>          <td>  3874</td>      <th>  BIC:               </th> <td>   3414.</td>\n",
       "</tr>\n",
       "<tr>\n",
       "  <th>Df Model:</th>              <td>    29</td>      <th>                     </th>     <td> </td>   \n",
       "</tr>\n",
       "<tr>\n",
       "  <th>Covariance Type:</th>         <td>HC3</td>       <th>                     </th>     <td> </td>   \n",
       "</tr>\n",
       "</table>\n",
       "<table class=\"simpletable\">\n",
       "<tr>\n",
       "       <td></td>         <th>coef</th>     <th>std err</th>      <th>z</th>      <th>P>|z|</th>  <th>[0.025</th>    <th>0.975]</th>  \n",
       "</tr>\n",
       "<tr>\n",
       "  <th>const</th>      <td>    3.8543</td> <td>    0.258</td> <td>   14.933</td> <td> 0.000</td> <td>    3.348</td> <td>    4.360</td>\n",
       "</tr>\n",
       "<tr>\n",
       "  <th>Age</th>        <td>    2.8389</td> <td>    1.705</td> <td>    1.665</td> <td> 0.096</td> <td>   -0.502</td> <td>    6.180</td>\n",
       "</tr>\n",
       "<tr>\n",
       "  <th>GP</th>         <td>   19.1086</td> <td>    0.909</td> <td>   21.020</td> <td> 0.000</td> <td>   17.327</td> <td>   20.890</td>\n",
       "</tr>\n",
       "<tr>\n",
       "  <th>+/-</th>        <td>    9.8630</td> <td>    2.386</td> <td>    4.133</td> <td> 0.000</td> <td>    5.186</td> <td>   14.540</td>\n",
       "</tr>\n",
       "<tr>\n",
       "  <th>PIM</th>        <td>    0.9812</td> <td>    0.244</td> <td>    4.025</td> <td> 0.000</td> <td>    0.503</td> <td>    1.459</td>\n",
       "</tr>\n",
       "<tr>\n",
       "  <th>S</th>          <td>    4.1820</td> <td>    0.372</td> <td>   11.249</td> <td> 0.000</td> <td>    3.453</td> <td>    4.911</td>\n",
       "</tr>\n",
       "<tr>\n",
       "  <th>ATOI</th>       <td>    0.8932</td> <td>    0.351</td> <td>    2.548</td> <td> 0.011</td> <td>    0.206</td> <td>    1.580</td>\n",
       "</tr>\n",
       "<tr>\n",
       "  <th>FOW</th>        <td>    0.1893</td> <td>    0.074</td> <td>    2.550</td> <td> 0.011</td> <td>    0.044</td> <td>    0.335</td>\n",
       "</tr>\n",
       "<tr>\n",
       "  <th>CF%</th>        <td>   -7.3045</td> <td>    2.883</td> <td>   -2.533</td> <td> 0.011</td> <td>  -12.956</td> <td>   -1.653</td>\n",
       "</tr>\n",
       "<tr>\n",
       "  <th>CF% rel</th>    <td>    1.8274</td> <td>    4.587</td> <td>    0.398</td> <td> 0.690</td> <td>   -7.164</td> <td>   10.819</td>\n",
       "</tr>\n",
       "<tr>\n",
       "  <th>oiSH%</th>      <td> -198.8090</td> <td>  112.402</td> <td>   -1.769</td> <td> 0.077</td> <td> -419.114</td> <td>   21.496</td>\n",
       "</tr>\n",
       "<tr>\n",
       "  <th>oiSV%</th>      <td> -242.2822</td> <td>  112.430</td> <td>   -2.155</td> <td> 0.031</td> <td> -462.641</td> <td>  -21.923</td>\n",
       "</tr>\n",
       "<tr>\n",
       "  <th>PDO</th>        <td>  218.7649</td> <td>  112.564</td> <td>    1.943</td> <td> 0.052</td> <td>   -1.856</td> <td>  439.385</td>\n",
       "</tr>\n",
       "<tr>\n",
       "  <th>oZS%</th>       <td>   -1.9812</td> <td>    1.366</td> <td>   -1.450</td> <td> 0.147</td> <td>   -4.658</td> <td>    0.696</td>\n",
       "</tr>\n",
       "<tr>\n",
       "  <th>TK</th>         <td>    0.3948</td> <td>    0.528</td> <td>    0.748</td> <td> 0.454</td> <td>   -0.639</td> <td>    1.429</td>\n",
       "</tr>\n",
       "<tr>\n",
       "  <th>Thru%</th>      <td>    2.3633</td> <td>    2.037</td> <td>    1.160</td> <td> 0.246</td> <td>   -1.629</td> <td>    6.356</td>\n",
       "</tr>\n",
       "<tr>\n",
       "  <th>Shift</th>      <td>   -0.3463</td> <td>    0.891</td> <td>   -0.389</td> <td> 0.698</td> <td>   -2.093</td> <td>    1.401</td>\n",
       "</tr>\n",
       "<tr>\n",
       "  <th>TOI_PP</th>     <td>    0.8897</td> <td>    0.304</td> <td>    2.926</td> <td> 0.003</td> <td>    0.294</td> <td>    1.486</td>\n",
       "</tr>\n",
       "<tr>\n",
       "  <th>CF% Rel_PP</th> <td>   -0.3757</td> <td>    0.469</td> <td>   -0.802</td> <td> 0.423</td> <td>   -1.294</td> <td>    0.543</td>\n",
       "</tr>\n",
       "<tr>\n",
       "  <th>GF/60_PP</th>   <td>   20.5895</td> <td>    4.398</td> <td>    4.682</td> <td> 0.000</td> <td>   11.970</td> <td>   29.209</td>\n",
       "</tr>\n",
       "<tr>\n",
       "  <th>GA/60_PP</th>   <td>    1.5992</td> <td>    1.805</td> <td>    0.886</td> <td> 0.376</td> <td>   -1.939</td> <td>    5.138</td>\n",
       "</tr>\n",
       "<tr>\n",
       "  <th>TOI_SH</th>     <td>   -0.6796</td> <td>    0.439</td> <td>   -1.549</td> <td> 0.121</td> <td>   -1.540</td> <td>    0.180</td>\n",
       "</tr>\n",
       "<tr>\n",
       "  <th>CF% Rel_SH</th> <td>    0.1573</td> <td>    0.565</td> <td>    0.278</td> <td> 0.781</td> <td>   -0.950</td> <td>    1.265</td>\n",
       "</tr>\n",
       "<tr>\n",
       "  <th>GF/60_SH</th>   <td>    0.1260</td> <td>    1.129</td> <td>    0.112</td> <td> 0.911</td> <td>   -2.086</td> <td>    2.338</td>\n",
       "</tr>\n",
       "<tr>\n",
       "  <th>GA/60_SH</th>   <td>    8.1050</td> <td>    4.154</td> <td>    1.951</td> <td> 0.051</td> <td>   -0.037</td> <td>   16.247</td>\n",
       "</tr>\n",
       "<tr>\n",
       "  <th>F</th>          <td>  246.5392</td> <td>   46.484</td> <td>    5.304</td> <td> 0.000</td> <td>  155.432</td> <td>  337.646</td>\n",
       "</tr>\n",
       "<tr>\n",
       "  <th>+/-_2</th>      <td>    0.3347</td> <td>    0.078</td> <td>    4.265</td> <td> 0.000</td> <td>    0.181</td> <td>    0.489</td>\n",
       "</tr>\n",
       "<tr>\n",
       "  <th>CF% rel_2</th>  <td>   -1.7176</td> <td>    0.507</td> <td>   -3.389</td> <td> 0.001</td> <td>   -2.711</td> <td>   -0.724</td>\n",
       "</tr>\n",
       "<tr>\n",
       "  <th>GF/60_PP_2</th> <td>   -0.8096</td> <td>    0.269</td> <td>   -3.006</td> <td> 0.003</td> <td>   -1.337</td> <td>   -0.282</td>\n",
       "</tr>\n",
       "<tr>\n",
       "  <th>GA/60_SH_2</th> <td>   -0.3778</td> <td>    0.247</td> <td>   -1.527</td> <td> 0.127</td> <td>   -0.863</td> <td>    0.107</td>\n",
       "</tr>\n",
       "</table>\n",
       "<table class=\"simpletable\">\n",
       "<tr>\n",
       "  <th>Omnibus:</th>       <td>2188.421</td> <th>  Durbin-Watson:     </th> <td>   1.988</td> \n",
       "</tr>\n",
       "<tr>\n",
       "  <th>Prob(Omnibus):</th>  <td> 0.000</td>  <th>  Jarque-Bera (JB):  </th> <td>43256.568</td>\n",
       "</tr>\n",
       "<tr>\n",
       "  <th>Skew:</th>           <td>-2.252</td>  <th>  Prob(JB):          </th> <td>    0.00</td> \n",
       "</tr>\n",
       "<tr>\n",
       "  <th>Kurtosis:</th>       <td>18.673</td>  <th>  Cond. No.          </th> <td>4.82e+04</td> \n",
       "</tr>\n",
       "</table><br/><br/>Notes:<br/>[1] Standard Errors are heteroscedasticity robust (HC3)<br/>[2] The condition number is large, 4.82e+04. This might indicate that there are<br/>strong multicollinearity or other numerical problems."
      ],
      "text/plain": [
       "<class 'statsmodels.iolib.summary.Summary'>\n",
       "\"\"\"\n",
       "                            OLS Regression Results                            \n",
       "==============================================================================\n",
       "Dep. Variable:               FTSY_PTS   R-squared:                       0.847\n",
       "Model:                            OLS   Adj. R-squared:                  0.846\n",
       "Method:                 Least Squares   F-statistic:                     621.0\n",
       "Date:                Mon, 27 Feb 2023   Prob (F-statistic):               0.00\n",
       "Time:                        19:48:40   Log-Likelihood:                -1583.2\n",
       "No. Observations:                3904   AIC:                             3226.\n",
       "Df Residuals:                    3874   BIC:                             3414.\n",
       "Df Model:                          29                                         \n",
       "Covariance Type:                  HC3                                         \n",
       "==============================================================================\n",
       "                 coef    std err          z      P>|z|      [0.025      0.975]\n",
       "------------------------------------------------------------------------------\n",
       "const          3.8543      0.258     14.933      0.000       3.348       4.360\n",
       "Age            2.8389      1.705      1.665      0.096      -0.502       6.180\n",
       "GP            19.1086      0.909     21.020      0.000      17.327      20.890\n",
       "+/-            9.8630      2.386      4.133      0.000       5.186      14.540\n",
       "PIM            0.9812      0.244      4.025      0.000       0.503       1.459\n",
       "S              4.1820      0.372     11.249      0.000       3.453       4.911\n",
       "ATOI           0.8932      0.351      2.548      0.011       0.206       1.580\n",
       "FOW            0.1893      0.074      2.550      0.011       0.044       0.335\n",
       "CF%           -7.3045      2.883     -2.533      0.011     -12.956      -1.653\n",
       "CF% rel        1.8274      4.587      0.398      0.690      -7.164      10.819\n",
       "oiSH%       -198.8090    112.402     -1.769      0.077    -419.114      21.496\n",
       "oiSV%       -242.2822    112.430     -2.155      0.031    -462.641     -21.923\n",
       "PDO          218.7649    112.564      1.943      0.052      -1.856     439.385\n",
       "oZS%          -1.9812      1.366     -1.450      0.147      -4.658       0.696\n",
       "TK             0.3948      0.528      0.748      0.454      -0.639       1.429\n",
       "Thru%          2.3633      2.037      1.160      0.246      -1.629       6.356\n",
       "Shift         -0.3463      0.891     -0.389      0.698      -2.093       1.401\n",
       "TOI_PP         0.8897      0.304      2.926      0.003       0.294       1.486\n",
       "CF% Rel_PP    -0.3757      0.469     -0.802      0.423      -1.294       0.543\n",
       "GF/60_PP      20.5895      4.398      4.682      0.000      11.970      29.209\n",
       "GA/60_PP       1.5992      1.805      0.886      0.376      -1.939       5.138\n",
       "TOI_SH        -0.6796      0.439     -1.549      0.121      -1.540       0.180\n",
       "CF% Rel_SH     0.1573      0.565      0.278      0.781      -0.950       1.265\n",
       "GF/60_SH       0.1260      1.129      0.112      0.911      -2.086       2.338\n",
       "GA/60_SH       8.1050      4.154      1.951      0.051      -0.037      16.247\n",
       "F            246.5392     46.484      5.304      0.000     155.432     337.646\n",
       "+/-_2          0.3347      0.078      4.265      0.000       0.181       0.489\n",
       "CF% rel_2     -1.7176      0.507     -3.389      0.001      -2.711      -0.724\n",
       "GF/60_PP_2    -0.8096      0.269     -3.006      0.003      -1.337      -0.282\n",
       "GA/60_SH_2    -0.3778      0.247     -1.527      0.127      -0.863       0.107\n",
       "==============================================================================\n",
       "Omnibus:                     2188.421   Durbin-Watson:                   1.988\n",
       "Prob(Omnibus):                  0.000   Jarque-Bera (JB):            43256.568\n",
       "Skew:                          -2.252   Prob(JB):                         0.00\n",
       "Kurtosis:                      18.673   Cond. No.                     4.82e+04\n",
       "==============================================================================\n",
       "\n",
       "Notes:\n",
       "[1] Standard Errors are heteroscedasticity robust (HC3)\n",
       "[2] The condition number is large, 4.82e+04. This might indicate that there are\n",
       "strong multicollinearity or other numerical problems.\n",
       "\"\"\""
      ]
     },
     "execution_count": 18,
     "metadata": {},
     "output_type": "execute_result"
    }
   ],
   "source": [
    "model_ols = sm.OLS(y_train, sm.add_constant(X_train)).fit(cov_type='HC3')\n",
    "model_ols.summary()"
   ]
  },
  {
   "cell_type": "code",
   "execution_count": 19,
   "id": "df36813a-05e9-4d42-8e58-34db73d72790",
   "metadata": {
    "tags": []
   },
   "outputs": [
    {
     "name": "stdout",
     "output_type": "stream",
     "text": [
      "Mean Absolute Error: 16.64\n",
      "Mean Squared Error: 598.73\n",
      "Root Mean Squared Error: 24.47\n"
     ]
    }
   ],
   "source": [
    "y_pred = model_ols.predict(sm.add_constant(X_test))\n",
    "\n",
    "y_test_real = np.exp(y_test)\n",
    "y_pred_real = np.exp(y_pred)\n",
    "\n",
    "mae = mean_absolute_error(y_test_real, y_pred_real)\n",
    "mse = mean_squared_error(y_test_real, y_pred_real)\n",
    "rmse = mean_squared_error(y_test_real, y_pred_real, squared=False)\n",
    "\n",
    "print(f\"Mean Absolute Error: {round(mae, 2)}\")\n",
    "print(f\"Mean Squared Error: {round(mse, 2)}\")\n",
    "print(f\"Root Mean Squared Error: {round(rmse, 2)}\")"
   ]
  },
  {
   "cell_type": "markdown",
   "id": "535eef2a-6083-490c-a281-ceb5e814b7c3",
   "metadata": {},
   "source": [
    "# WLS Model"
   ]
  },
  {
   "cell_type": "markdown",
   "id": "2c71319f-fc77-4a8c-914d-b2b0ed5c377d",
   "metadata": {},
   "source": [
    "## Calculate Weights"
   ]
  },
  {
   "cell_type": "markdown",
   "id": "4d756b55-596a-46b4-a6ff-c2e205e11cd5",
   "metadata": {},
   "source": [
    "To get the weights, I set fit a model using the residual and the fitted values. After that, the weight is simply the inverse of the cubed fitted values. The values are cubed because this give the best performing model according to the R-Squared, AIC and BIC."
   ]
  },
  {
   "cell_type": "code",
   "execution_count": 20,
   "id": "7330c046-ef5b-4e29-99c1-41e9f5765433",
   "metadata": {
    "tags": []
   },
   "outputs": [],
   "source": [
    "weights = 1 / smf.ols('model_ols.resid.abs() ~ model_ols.fittedvalues', data=X_train).fit().fittedvalues**3"
   ]
  },
  {
   "cell_type": "markdown",
   "id": "ac51fe0c-0d0b-4bfc-a547-f8ceb4c4192d",
   "metadata": {},
   "source": [
    "## Fit Model"
   ]
  },
  {
   "cell_type": "code",
   "execution_count": 21,
   "id": "e76b3223-c310-4a2b-89ed-f90679caf912",
   "metadata": {},
   "outputs": [
    {
     "data": {
      "text/html": [
       "<table class=\"simpletable\">\n",
       "<caption>WLS Regression Results</caption>\n",
       "<tr>\n",
       "  <th>Dep. Variable:</th>        <td>FTSY_PTS</td>     <th>  R-squared:         </th> <td>   0.906</td>\n",
       "</tr>\n",
       "<tr>\n",
       "  <th>Model:</th>                   <td>WLS</td>       <th>  Adj. R-squared:    </th> <td>   0.906</td>\n",
       "</tr>\n",
       "<tr>\n",
       "  <th>Method:</th>             <td>Least Squares</td>  <th>  F-statistic:       </th> <td>   724.9</td>\n",
       "</tr>\n",
       "<tr>\n",
       "  <th>Date:</th>             <td>Mon, 27 Feb 2023</td> <th>  Prob (F-statistic):</th>  <td>  0.00</td> \n",
       "</tr>\n",
       "<tr>\n",
       "  <th>Time:</th>                 <td>19:48:40</td>     <th>  Log-Likelihood:    </th> <td> -198.26</td>\n",
       "</tr>\n",
       "<tr>\n",
       "  <th>No. Observations:</th>      <td>  3904</td>      <th>  AIC:               </th> <td>   456.5</td>\n",
       "</tr>\n",
       "<tr>\n",
       "  <th>Df Residuals:</th>          <td>  3874</td>      <th>  BIC:               </th> <td>   644.6</td>\n",
       "</tr>\n",
       "<tr>\n",
       "  <th>Df Model:</th>              <td>    29</td>      <th>                     </th>     <td> </td>   \n",
       "</tr>\n",
       "<tr>\n",
       "  <th>Covariance Type:</th>         <td>HC3</td>       <th>                     </th>     <td> </td>   \n",
       "</tr>\n",
       "</table>\n",
       "<table class=\"simpletable\">\n",
       "<tr>\n",
       "       <td></td>         <th>coef</th>     <th>std err</th>      <th>z</th>      <th>P>|z|</th>  <th>[0.025</th>    <th>0.975]</th>  \n",
       "</tr>\n",
       "<tr>\n",
       "  <th>const</th>      <td>    4.4476</td> <td>    0.160</td> <td>   27.729</td> <td> 0.000</td> <td>    4.133</td> <td>    4.762</td>\n",
       "</tr>\n",
       "<tr>\n",
       "  <th>Age</th>        <td>   -1.1316</td> <td>    1.138</td> <td>   -0.994</td> <td> 0.320</td> <td>   -3.362</td> <td>    1.099</td>\n",
       "</tr>\n",
       "<tr>\n",
       "  <th>GP</th>         <td>   12.6257</td> <td>    0.446</td> <td>   28.278</td> <td> 0.000</td> <td>   11.751</td> <td>   13.501</td>\n",
       "</tr>\n",
       "<tr>\n",
       "  <th>+/-</th>        <td>    6.1982</td> <td>    0.479</td> <td>   12.935</td> <td> 0.000</td> <td>    5.259</td> <td>    7.137</td>\n",
       "</tr>\n",
       "<tr>\n",
       "  <th>PIM</th>        <td>    1.2805</td> <td>    0.215</td> <td>    5.949</td> <td> 0.000</td> <td>    0.859</td> <td>    1.702</td>\n",
       "</tr>\n",
       "<tr>\n",
       "  <th>S</th>          <td>    2.5416</td> <td>    0.144</td> <td>   17.653</td> <td> 0.000</td> <td>    2.259</td> <td>    2.824</td>\n",
       "</tr>\n",
       "<tr>\n",
       "  <th>ATOI</th>       <td>    0.9270</td> <td>    0.157</td> <td>    5.890</td> <td> 0.000</td> <td>    0.618</td> <td>    1.235</td>\n",
       "</tr>\n",
       "<tr>\n",
       "  <th>FOW</th>        <td>    0.2192</td> <td>    0.048</td> <td>    4.615</td> <td> 0.000</td> <td>    0.126</td> <td>    0.312</td>\n",
       "</tr>\n",
       "<tr>\n",
       "  <th>CF%</th>        <td>   -5.6097</td> <td>    2.022</td> <td>   -2.775</td> <td> 0.006</td> <td>   -9.573</td> <td>   -1.647</td>\n",
       "</tr>\n",
       "<tr>\n",
       "  <th>CF% rel</th>    <td>    0.6084</td> <td>    2.380</td> <td>    0.256</td> <td> 0.798</td> <td>   -4.057</td> <td>    5.273</td>\n",
       "</tr>\n",
       "<tr>\n",
       "  <th>oiSH%</th>      <td>  -42.4620</td> <td>  102.216</td> <td>   -0.415</td> <td> 0.678</td> <td> -242.802</td> <td>  157.878</td>\n",
       "</tr>\n",
       "<tr>\n",
       "  <th>oiSV%</th>      <td> -108.1977</td> <td>  102.084</td> <td>   -1.060</td> <td> 0.289</td> <td> -308.279</td> <td>   91.883</td>\n",
       "</tr>\n",
       "<tr>\n",
       "  <th>PDO</th>        <td>   81.3671</td> <td>  102.163</td> <td>    0.796</td> <td> 0.426</td> <td> -118.868</td> <td>  281.602</td>\n",
       "</tr>\n",
       "<tr>\n",
       "  <th>oZS%</th>       <td>   -0.7007</td> <td>    0.836</td> <td>   -0.839</td> <td> 0.402</td> <td>   -2.339</td> <td>    0.937</td>\n",
       "</tr>\n",
       "<tr>\n",
       "  <th>TK</th>         <td>    1.9801</td> <td>    0.421</td> <td>    4.701</td> <td> 0.000</td> <td>    1.155</td> <td>    2.806</td>\n",
       "</tr>\n",
       "<tr>\n",
       "  <th>Thru%</th>      <td>   -1.0735</td> <td>    1.119</td> <td>   -0.959</td> <td> 0.337</td> <td>   -3.267</td> <td>    1.120</td>\n",
       "</tr>\n",
       "<tr>\n",
       "  <th>Shift</th>      <td>   -0.0226</td> <td>    0.788</td> <td>   -0.029</td> <td> 0.977</td> <td>   -1.567</td> <td>    1.522</td>\n",
       "</tr>\n",
       "<tr>\n",
       "  <th>TOI_PP</th>     <td>    1.5612</td> <td>    0.179</td> <td>    8.736</td> <td> 0.000</td> <td>    1.211</td> <td>    1.911</td>\n",
       "</tr>\n",
       "<tr>\n",
       "  <th>CF% Rel_PP</th> <td>   -0.8214</td> <td>    0.367</td> <td>   -2.236</td> <td> 0.025</td> <td>   -1.541</td> <td>   -0.101</td>\n",
       "</tr>\n",
       "<tr>\n",
       "  <th>GF/60_PP</th>   <td>   18.6592</td> <td>    3.455</td> <td>    5.401</td> <td> 0.000</td> <td>   11.888</td> <td>   25.430</td>\n",
       "</tr>\n",
       "<tr>\n",
       "  <th>GA/60_PP</th>   <td>    3.3235</td> <td>    2.594</td> <td>    1.281</td> <td> 0.200</td> <td>   -1.761</td> <td>    8.408</td>\n",
       "</tr>\n",
       "<tr>\n",
       "  <th>TOI_SH</th>     <td>   -0.2503</td> <td>    0.173</td> <td>   -1.448</td> <td> 0.148</td> <td>   -0.589</td> <td>    0.088</td>\n",
       "</tr>\n",
       "<tr>\n",
       "  <th>CF% Rel_SH</th> <td>    0.1043</td> <td>    0.289</td> <td>    0.362</td> <td> 0.718</td> <td>   -0.461</td> <td>    0.670</td>\n",
       "</tr>\n",
       "<tr>\n",
       "  <th>GF/60_SH</th>   <td>    0.3806</td> <td>    0.980</td> <td>    0.389</td> <td> 0.698</td> <td>   -1.539</td> <td>    2.301</td>\n",
       "</tr>\n",
       "<tr>\n",
       "  <th>GA/60_SH</th>   <td>    6.4306</td> <td>    2.617</td> <td>    2.457</td> <td> 0.014</td> <td>    1.302</td> <td>   11.560</td>\n",
       "</tr>\n",
       "<tr>\n",
       "  <th>F</th>          <td>  300.0510</td> <td>   23.741</td> <td>   12.639</td> <td> 0.000</td> <td>  253.520</td> <td>  346.582</td>\n",
       "</tr>\n",
       "<tr>\n",
       "  <th>+/-_2</th>      <td>    0.1608</td> <td>    0.052</td> <td>    3.074</td> <td> 0.002</td> <td>    0.058</td> <td>    0.263</td>\n",
       "</tr>\n",
       "<tr>\n",
       "  <th>CF% rel_2</th>  <td>    0.2119</td> <td>    0.235</td> <td>    0.903</td> <td> 0.367</td> <td>   -0.248</td> <td>    0.672</td>\n",
       "</tr>\n",
       "<tr>\n",
       "  <th>GF/60_PP_2</th> <td>   -0.2668</td> <td>    0.213</td> <td>   -1.253</td> <td> 0.210</td> <td>   -0.684</td> <td>    0.150</td>\n",
       "</tr>\n",
       "<tr>\n",
       "  <th>GA/60_SH_2</th> <td>   -0.1556</td> <td>    0.155</td> <td>   -1.007</td> <td> 0.314</td> <td>   -0.459</td> <td>    0.147</td>\n",
       "</tr>\n",
       "</table>\n",
       "<table class=\"simpletable\">\n",
       "<tr>\n",
       "  <th>Omnibus:</th>       <td>817.117</td> <th>  Durbin-Watson:     </th> <td>   1.997</td>\n",
       "</tr>\n",
       "<tr>\n",
       "  <th>Prob(Omnibus):</th> <td> 0.000</td>  <th>  Jarque-Bera (JB):  </th> <td>4460.748</td>\n",
       "</tr>\n",
       "<tr>\n",
       "  <th>Skew:</th>          <td>-0.888</td>  <th>  Prob(JB):          </th> <td>    0.00</td>\n",
       "</tr>\n",
       "<tr>\n",
       "  <th>Kurtosis:</th>      <td> 7.926</td>  <th>  Cond. No.          </th> <td>5.61e+04</td>\n",
       "</tr>\n",
       "</table><br/><br/>Notes:<br/>[1] Standard Errors are heteroscedasticity robust (HC3)<br/>[2] The condition number is large, 5.61e+04. This might indicate that there are<br/>strong multicollinearity or other numerical problems."
      ],
      "text/plain": [
       "<class 'statsmodels.iolib.summary.Summary'>\n",
       "\"\"\"\n",
       "                            WLS Regression Results                            \n",
       "==============================================================================\n",
       "Dep. Variable:               FTSY_PTS   R-squared:                       0.906\n",
       "Model:                            WLS   Adj. R-squared:                  0.906\n",
       "Method:                 Least Squares   F-statistic:                     724.9\n",
       "Date:                Mon, 27 Feb 2023   Prob (F-statistic):               0.00\n",
       "Time:                        19:48:40   Log-Likelihood:                -198.26\n",
       "No. Observations:                3904   AIC:                             456.5\n",
       "Df Residuals:                    3874   BIC:                             644.6\n",
       "Df Model:                          29                                         \n",
       "Covariance Type:                  HC3                                         \n",
       "==============================================================================\n",
       "                 coef    std err          z      P>|z|      [0.025      0.975]\n",
       "------------------------------------------------------------------------------\n",
       "const          4.4476      0.160     27.729      0.000       4.133       4.762\n",
       "Age           -1.1316      1.138     -0.994      0.320      -3.362       1.099\n",
       "GP            12.6257      0.446     28.278      0.000      11.751      13.501\n",
       "+/-            6.1982      0.479     12.935      0.000       5.259       7.137\n",
       "PIM            1.2805      0.215      5.949      0.000       0.859       1.702\n",
       "S              2.5416      0.144     17.653      0.000       2.259       2.824\n",
       "ATOI           0.9270      0.157      5.890      0.000       0.618       1.235\n",
       "FOW            0.2192      0.048      4.615      0.000       0.126       0.312\n",
       "CF%           -5.6097      2.022     -2.775      0.006      -9.573      -1.647\n",
       "CF% rel        0.6084      2.380      0.256      0.798      -4.057       5.273\n",
       "oiSH%        -42.4620    102.216     -0.415      0.678    -242.802     157.878\n",
       "oiSV%       -108.1977    102.084     -1.060      0.289    -308.279      91.883\n",
       "PDO           81.3671    102.163      0.796      0.426    -118.868     281.602\n",
       "oZS%          -0.7007      0.836     -0.839      0.402      -2.339       0.937\n",
       "TK             1.9801      0.421      4.701      0.000       1.155       2.806\n",
       "Thru%         -1.0735      1.119     -0.959      0.337      -3.267       1.120\n",
       "Shift         -0.0226      0.788     -0.029      0.977      -1.567       1.522\n",
       "TOI_PP         1.5612      0.179      8.736      0.000       1.211       1.911\n",
       "CF% Rel_PP    -0.8214      0.367     -2.236      0.025      -1.541      -0.101\n",
       "GF/60_PP      18.6592      3.455      5.401      0.000      11.888      25.430\n",
       "GA/60_PP       3.3235      2.594      1.281      0.200      -1.761       8.408\n",
       "TOI_SH        -0.2503      0.173     -1.448      0.148      -0.589       0.088\n",
       "CF% Rel_SH     0.1043      0.289      0.362      0.718      -0.461       0.670\n",
       "GF/60_SH       0.3806      0.980      0.389      0.698      -1.539       2.301\n",
       "GA/60_SH       6.4306      2.617      2.457      0.014       1.302      11.560\n",
       "F            300.0510     23.741     12.639      0.000     253.520     346.582\n",
       "+/-_2          0.1608      0.052      3.074      0.002       0.058       0.263\n",
       "CF% rel_2      0.2119      0.235      0.903      0.367      -0.248       0.672\n",
       "GF/60_PP_2    -0.2668      0.213     -1.253      0.210      -0.684       0.150\n",
       "GA/60_SH_2    -0.1556      0.155     -1.007      0.314      -0.459       0.147\n",
       "==============================================================================\n",
       "Omnibus:                      817.117   Durbin-Watson:                   1.997\n",
       "Prob(Omnibus):                  0.000   Jarque-Bera (JB):             4460.748\n",
       "Skew:                          -0.888   Prob(JB):                         0.00\n",
       "Kurtosis:                       7.926   Cond. No.                     5.61e+04\n",
       "==============================================================================\n",
       "\n",
       "Notes:\n",
       "[1] Standard Errors are heteroscedasticity robust (HC3)\n",
       "[2] The condition number is large, 5.61e+04. This might indicate that there are\n",
       "strong multicollinearity or other numerical problems.\n",
       "\"\"\""
      ]
     },
     "execution_count": 21,
     "metadata": {},
     "output_type": "execute_result"
    }
   ],
   "source": [
    "model_wls = sm.WLS(y_train, sm.add_constant(X_train), weights=weights).fit(cov_type='HC3')\n",
    "model_wls.summary()"
   ]
  },
  {
   "cell_type": "markdown",
   "id": "bce64f1d-cd41-48ef-813c-68fa6a448404",
   "metadata": {},
   "source": [
    "This model has very respectable r-squared, aic and bic values, but there are multiple variables which are statistically insignificant. This means that there are potentially random elements added to the model."
   ]
  },
  {
   "cell_type": "code",
   "execution_count": 22,
   "id": "d135ddf4-b2ec-49f9-8a05-04da25765455",
   "metadata": {
    "tags": []
   },
   "outputs": [
    {
     "name": "stdout",
     "output_type": "stream",
     "text": [
      "Mean Absolute Error: 12.59\n",
      "Mean Squared Error: 299.05\n",
      "Root Mean Squared Error: 17.29\n"
     ]
    }
   ],
   "source": [
    "y_pred = model_wls.predict(sm.add_constant(X_test))\n",
    "\n",
    "y_test_real = np.exp(y_test)\n",
    "y_pred_real = np.exp(y_pred)\n",
    "\n",
    "mae = mean_absolute_error(y_test_real, y_pred_real)\n",
    "mse = mean_squared_error(y_test_real, y_pred_real)\n",
    "rmse = mean_squared_error(y_test_real, y_pred_real, squared=False)\n",
    "\n",
    "print(f\"Mean Absolute Error: {round(mae, 2)}\")\n",
    "print(f\"Mean Squared Error: {round(mse, 2)}\")\n",
    "print(f\"Root Mean Squared Error: {round(rmse, 2)}\")"
   ]
  },
  {
   "cell_type": "markdown",
   "id": "fac0cd14-a706-437d-827f-edce7d86b0be",
   "metadata": {},
   "source": [
    "Based on the evaluation metrics, the model's predicted values for a certain target variable have an average absolute error of 12.59 units, an average squared error of 299.05 squared units, and an average error of 17.29 units, measured in the same units as the target variable."
   ]
  },
  {
   "cell_type": "markdown",
   "id": "57377e35-6562-4770-8c33-6345898a94f9",
   "metadata": {},
   "source": [
    "# Optimized WLS *(Insignificant Values Removed)*"
   ]
  },
  {
   "cell_type": "markdown",
   "id": "b457d59a-7c80-43d8-adff-274f5558675b",
   "metadata": {},
   "source": [
    "## Remove Insignificant Variables"
   ]
  },
  {
   "cell_type": "markdown",
   "id": "cd6336cb-afb3-450e-906c-f4d43f68d8ea",
   "metadata": {},
   "source": [
    "To build the best model, I used the p-values from the previous WLS model to remove statistically insignificant variables. Also, I removed a couple variables manually (Shift, ATOI, TOI_SH, GF/60_PP_2, GA/60_PP) while adjusting the current model (Optimized WLS) based on the p-values."
   ]
  },
  {
   "cell_type": "code",
   "execution_count": 23,
   "id": "0f14e8c8-0658-4aad-aa30-0078a6bb09ab",
   "metadata": {
    "tags": []
   },
   "outputs": [
    {
     "name": "stdout",
     "output_type": "stream",
     "text": [
      "Dropped: \n",
      " ['Age', 'CF% rel', 'oiSH%', 'oiSV%', 'PDO', 'oZS%', 'Thru%', 'Shift', 'GA/60_PP', 'TOI_SH', 'CF% Rel_SH', 'GF/60_SH', 'CF% rel_2', 'GF/60_PP_2', 'GA/60_SH_2', 'Shift', 'ATOI', 'TOI_SH', 'GF/60_PP_2', 'GA/60_PP', 'CF% Rel_PP', 'GA/60_SH', '+/-_2', 'F']\n"
     ]
    }
   ],
   "source": [
    "to_drop = (\n",
    "    list(model_wls.pvalues[model_wls.pvalues > 0.05].index)\n",
    "                           +\n",
    "    ['Shift', 'ATOI', 'TOI_SH', 'GF/60_PP_2', 'GA/60_PP', 'CF% Rel_PP', 'GA/60_SH', '+/-_2', 'F']\n",
    ")\n",
    "X_opt = X.drop(to_drop, axis=1)\n",
    "\n",
    "\n",
    "print('Dropped: \\n', to_drop)"
   ]
  },
  {
   "cell_type": "markdown",
   "id": "c60ac480-6198-480d-aad8-e5955a743a0b",
   "metadata": {},
   "source": [
    "## Split New Data"
   ]
  },
  {
   "cell_type": "markdown",
   "id": "4cf782a8-7332-40cd-a759-b5222c7d80f9",
   "metadata": {},
   "source": [
    "Splitting the new dataset into training and test datasets."
   ]
  },
  {
   "cell_type": "code",
   "execution_count": 24,
   "id": "bc95b716-9af1-45b0-a8da-1ae9ed3716a1",
   "metadata": {
    "tags": []
   },
   "outputs": [],
   "source": [
    "X_train, X_test, y_train, y_test = train_test_split(X_opt, y, test_size=0.2, random_state=42)"
   ]
  },
  {
   "cell_type": "markdown",
   "id": "e18cefb9-c277-488e-8812-e001bf345142",
   "metadata": {},
   "source": [
    "## Recalculate Weights"
   ]
  },
  {
   "cell_type": "markdown",
   "id": "0342fcbe-d937-42b3-94bf-851acb426b12",
   "metadata": {},
   "source": [
    "Since the data's shape changed, I recalculated the weights using a new OLS model."
   ]
  },
  {
   "cell_type": "code",
   "execution_count": 25,
   "id": "2b7e3e45-2888-44dd-8c96-4a10327a1e33",
   "metadata": {},
   "outputs": [],
   "source": [
    "model_ols_opt = sm.OLS(y_train, sm.add_constant(X_train)).fit(cov_type='HC3')\n",
    "weights = 1 / smf.ols('model_ols_opt.resid.abs() ~ model_ols_opt.fittedvalues', data=X_train).fit().fittedvalues**4"
   ]
  },
  {
   "cell_type": "code",
   "execution_count": 26,
   "id": "bbe4f3d7-1a70-4caa-83ec-da69ad853072",
   "metadata": {
    "tags": []
   },
   "outputs": [
    {
     "data": {
      "text/html": [
       "<table class=\"simpletable\">\n",
       "<caption>WLS Regression Results</caption>\n",
       "<tr>\n",
       "  <th>Dep. Variable:</th>        <td>FTSY_PTS</td>     <th>  R-squared:         </th> <td>   0.849</td>\n",
       "</tr>\n",
       "<tr>\n",
       "  <th>Model:</th>                   <td>WLS</td>       <th>  Adj. R-squared:    </th> <td>   0.849</td>\n",
       "</tr>\n",
       "<tr>\n",
       "  <th>Method:</th>             <td>Least Squares</td>  <th>  F-statistic:       </th> <td>   1310.</td>\n",
       "</tr>\n",
       "<tr>\n",
       "  <th>Date:</th>             <td>Mon, 27 Feb 2023</td> <th>  Prob (F-statistic):</th>  <td>  0.00</td> \n",
       "</tr>\n",
       "<tr>\n",
       "  <th>Time:</th>                 <td>19:48:40</td>     <th>  Log-Likelihood:    </th> <td> -1193.1</td>\n",
       "</tr>\n",
       "<tr>\n",
       "  <th>No. Observations:</th>      <td>  3904</td>      <th>  AIC:               </th> <td>   2406.</td>\n",
       "</tr>\n",
       "<tr>\n",
       "  <th>Df Residuals:</th>          <td>  3894</td>      <th>  BIC:               </th> <td>   2469.</td>\n",
       "</tr>\n",
       "<tr>\n",
       "  <th>Df Model:</th>              <td>     9</td>      <th>                     </th>     <td> </td>   \n",
       "</tr>\n",
       "<tr>\n",
       "  <th>Covariance Type:</th>         <td>HC3</td>       <th>                     </th>     <td> </td>   \n",
       "</tr>\n",
       "</table>\n",
       "<table class=\"simpletable\">\n",
       "<tr>\n",
       "      <td></td>        <th>coef</th>     <th>std err</th>      <th>z</th>      <th>P>|z|</th>  <th>[0.025</th>    <th>0.975]</th>  \n",
       "</tr>\n",
       "<tr>\n",
       "  <th>const</th>    <td>    4.6580</td> <td>    0.036</td> <td>  128.137</td> <td> 0.000</td> <td>    4.587</td> <td>    4.729</td>\n",
       "</tr>\n",
       "<tr>\n",
       "  <th>GP</th>       <td>    8.2144</td> <td>    0.555</td> <td>   14.795</td> <td> 0.000</td> <td>    7.126</td> <td>    9.303</td>\n",
       "</tr>\n",
       "<tr>\n",
       "  <th>+/-</th>      <td>   10.1939</td> <td>    0.606</td> <td>   16.828</td> <td> 0.000</td> <td>    9.007</td> <td>   11.381</td>\n",
       "</tr>\n",
       "<tr>\n",
       "  <th>PIM</th>      <td>    1.5471</td> <td>    0.229</td> <td>    6.765</td> <td> 0.000</td> <td>    1.099</td> <td>    1.995</td>\n",
       "</tr>\n",
       "<tr>\n",
       "  <th>S</th>        <td>    3.5920</td> <td>    0.146</td> <td>   24.535</td> <td> 0.000</td> <td>    3.305</td> <td>    3.879</td>\n",
       "</tr>\n",
       "<tr>\n",
       "  <th>FOW</th>      <td>    0.2642</td> <td>    0.028</td> <td>    9.302</td> <td> 0.000</td> <td>    0.209</td> <td>    0.320</td>\n",
       "</tr>\n",
       "<tr>\n",
       "  <th>CF%</th>      <td>  -32.0138</td> <td>    0.785</td> <td>  -40.780</td> <td> 0.000</td> <td>  -33.552</td> <td>  -30.475</td>\n",
       "</tr>\n",
       "<tr>\n",
       "  <th>TK</th>       <td>    4.3143</td> <td>    0.648</td> <td>    6.657</td> <td> 0.000</td> <td>    3.044</td> <td>    5.584</td>\n",
       "</tr>\n",
       "<tr>\n",
       "  <th>TOI_PP</th>   <td>    3.1684</td> <td>    0.154</td> <td>   20.518</td> <td> 0.000</td> <td>    2.866</td> <td>    3.471</td>\n",
       "</tr>\n",
       "<tr>\n",
       "  <th>GF/60_PP</th> <td>   12.0139</td> <td>    2.025</td> <td>    5.932</td> <td> 0.000</td> <td>    8.044</td> <td>   15.984</td>\n",
       "</tr>\n",
       "</table>\n",
       "<table class=\"simpletable\">\n",
       "<tr>\n",
       "  <th>Omnibus:</th>       <td>1330.292</td> <th>  Durbin-Watson:     </th> <td>   1.957</td> \n",
       "</tr>\n",
       "<tr>\n",
       "  <th>Prob(Omnibus):</th>  <td> 0.000</td>  <th>  Jarque-Bera (JB):  </th> <td>12010.034</td>\n",
       "</tr>\n",
       "<tr>\n",
       "  <th>Skew:</th>           <td>-1.361</td>  <th>  Prob(JB):          </th> <td>    0.00</td> \n",
       "</tr>\n",
       "<tr>\n",
       "  <th>Kurtosis:</th>       <td>11.150</td>  <th>  Cond. No.          </th> <td>    462.</td> \n",
       "</tr>\n",
       "</table><br/><br/>Notes:<br/>[1] Standard Errors are heteroscedasticity robust (HC3)"
      ],
      "text/plain": [
       "<class 'statsmodels.iolib.summary.Summary'>\n",
       "\"\"\"\n",
       "                            WLS Regression Results                            \n",
       "==============================================================================\n",
       "Dep. Variable:               FTSY_PTS   R-squared:                       0.849\n",
       "Model:                            WLS   Adj. R-squared:                  0.849\n",
       "Method:                 Least Squares   F-statistic:                     1310.\n",
       "Date:                Mon, 27 Feb 2023   Prob (F-statistic):               0.00\n",
       "Time:                        19:48:40   Log-Likelihood:                -1193.1\n",
       "No. Observations:                3904   AIC:                             2406.\n",
       "Df Residuals:                    3894   BIC:                             2469.\n",
       "Df Model:                           9                                         \n",
       "Covariance Type:                  HC3                                         \n",
       "==============================================================================\n",
       "                 coef    std err          z      P>|z|      [0.025      0.975]\n",
       "------------------------------------------------------------------------------\n",
       "const          4.6580      0.036    128.137      0.000       4.587       4.729\n",
       "GP             8.2144      0.555     14.795      0.000       7.126       9.303\n",
       "+/-           10.1939      0.606     16.828      0.000       9.007      11.381\n",
       "PIM            1.5471      0.229      6.765      0.000       1.099       1.995\n",
       "S              3.5920      0.146     24.535      0.000       3.305       3.879\n",
       "FOW            0.2642      0.028      9.302      0.000       0.209       0.320\n",
       "CF%          -32.0138      0.785    -40.780      0.000     -33.552     -30.475\n",
       "TK             4.3143      0.648      6.657      0.000       3.044       5.584\n",
       "TOI_PP         3.1684      0.154     20.518      0.000       2.866       3.471\n",
       "GF/60_PP      12.0139      2.025      5.932      0.000       8.044      15.984\n",
       "==============================================================================\n",
       "Omnibus:                     1330.292   Durbin-Watson:                   1.957\n",
       "Prob(Omnibus):                  0.000   Jarque-Bera (JB):            12010.034\n",
       "Skew:                          -1.361   Prob(JB):                         0.00\n",
       "Kurtosis:                      11.150   Cond. No.                         462.\n",
       "==============================================================================\n",
       "\n",
       "Notes:\n",
       "[1] Standard Errors are heteroscedasticity robust (HC3)\n",
       "\"\"\""
      ]
     },
     "execution_count": 26,
     "metadata": {},
     "output_type": "execute_result"
    }
   ],
   "source": [
    "model_opt = sm.WLS(y_train, sm.add_constant(X_train), weights=weights).fit(cov_type='HC3')\n",
    "model_opt.summary()"
   ]
  },
  {
   "cell_type": "markdown",
   "id": "970e654a-d230-4423-a6cf-8c76d10c52e8",
   "metadata": {},
   "source": [
    "After all the tweaks to the model, the polynomial features were filtered out, so it should be noted that they arent necessary. Considering the degree applied to the weight, that might have an effect on which variables are necessary.With an r-squared of 0.849, we can say that the model is acceptable. Finally, all the p-values are very close to zero. Also, the aic and bic values remain respectable (between those of the ols and the first wls model)."
   ]
  },
  {
   "cell_type": "code",
   "execution_count": 27,
   "id": "2e7f2ed7-46f3-4c38-b88e-1f573c52397b",
   "metadata": {
    "tags": []
   },
   "outputs": [
    {
     "name": "stdout",
     "output_type": "stream",
     "text": [
      "Mean Absolute Error: 15.08\n",
      "Mean Squared Error: 438.61\n",
      "Root Mean Squared Error: 20.94\n"
     ]
    }
   ],
   "source": [
    "y_pred = model_opt.predict(sm.add_constant(X_test))\n",
    "\n",
    "y_test_real = np.exp(y_test)\n",
    "y_pred_real = np.exp(y_pred)\n",
    "\n",
    "mae = mean_absolute_error(y_test_real, y_pred_real)\n",
    "mse = mean_squared_error(y_test_real, y_pred_real)\n",
    "rmse = mean_squared_error(y_test_real, y_pred_real, squared=False)\n",
    "\n",
    "print(f\"Mean Absolute Error: {round(mae, 2)}\")\n",
    "print(f\"Mean Squared Error: {round(mse, 2)}\")\n",
    "print(f\"Root Mean Squared Error: {round(rmse, 2)}\")"
   ]
  },
  {
   "cell_type": "markdown",
   "id": "ff61fc4f-538e-4f12-b752-f48c57e10fa9",
   "metadata": {},
   "source": [
    "Based on the evaluation metrics, the model's predicted values for a certain target variable have an average absolute error of 15.08 units, an average squared error of 438.61 squared units, and an average error of 20.94 units, measured in the same units as the target variable."
   ]
  },
  {
   "cell_type": "markdown",
   "id": "7535efab-c55e-4120-bfb3-c1a5d905b205",
   "metadata": {},
   "source": [
    "# Model Choice"
   ]
  },
  {
   "cell_type": "code",
   "execution_count": 28,
   "id": "184e64a1-22db-4705-ba40-05eef6fb2e8a",
   "metadata": {
    "tags": []
   },
   "outputs": [
    {
     "data": {
      "text/plain": [
       "Text(0.5, 1.0, 'P-Values')"
      ]
     },
     "execution_count": 28,
     "metadata": {},
     "output_type": "execute_result"
    },
    {
     "data": {
      "image/png": "[encoded data removed]",
      "text/plain": [
       "<Figure size 3000x30 with 1 Axes>"
      ]
     },
     "metadata": {},
     "output_type": "display_data"
    }
   ],
   "source": [
    "p_wls = model_wls.pvalues.to_frame().reset_index().rename({'index': 'Models', 0:'WLS Model'}, axis=1).round(2)\n",
    "p_opt = model_opt.pvalues.to_frame().reset_index().rename({'index': 'Models', 0:'OPT Model'}, axis=1).round(2)\n",
    "\n",
    "p_table = p_wls.merge(p_opt, on='Models', how='left').sort_values(by='OPT Model').set_index('Models').T.reset_index()\n",
    "\n",
    "fig, ax = plt.subplots(figsize=(30,0.3))\n",
    "ax.table(cellText=p_table.values, colLabels=p_table.columns).set_fontsize(15)\n",
    "ax.axis('off')\n",
    "ax.set_title('P-Values')"
   ]
  },
  {
   "cell_type": "markdown",
   "id": "95f4d88c-77af-492f-8bd7-3d3b604b0df1",
   "metadata": {
    "tags": []
   },
   "source": [
    "| Metrics  | WLS Model  | Optimized WLS Model  |\n",
    "|---|---|---|\n",
    "| MSE  | <span style=\"color: green;\">12.59</span>  | <span style=\"color: red;\">15.08</span>  | \n",
    "| RMSE  | <span style=\"color: green;\">17.29</span> | <span style=\"color: red;\">20.94</span>  | \n",
    "| R^2  | <span style=\"color: green;\">0.906</span>  | <span style=\"color: red;\">0.849</span>  | \n",
    "----------------------------\n",
    "*Note: The WLS Model has a many values that are statistically insignificant"
   ]
  },
  {
   "cell_type": "markdown",
   "id": "2af2f1ec-f533-4cf5-af45-f906a6d80ff6",
   "metadata": {},
   "source": [
    "The high amount of statistically insignificant variables in the first WLS model indicates that those variables have a higher chance of \"luck\" affecting the model. Thus, even thought the model has a much higher r-squared, AIC and BIC, the optimized model captures the nature of the data and its relationships much better."
   ]
  },
  {
   "cell_type": "markdown",
   "id": "a21cfa32-80bb-4485-8c14-471b3cef3997",
   "metadata": {},
   "source": [
    "# Model Summary"
   ]
  },
  {
   "cell_type": "markdown",
   "id": "772c5347-e12a-4009-9103-95cf422b9f5b",
   "metadata": {},
   "source": [
    "__Explanatory Variable Glossary:__\n",
    "| Variables | Description |\n",
    "|-------------|--------------------|\n",
    "| GP | Total amount of games played. |\n",
    "| +/- | Difference between the amount scored by a team and by the opposing team while a player is on the ice. |\n",
    "| PIM | Total amount of penalty minutes. |\n",
    "| S | Total amount of shots on goal. |\n",
    "| FOW | Total amount of faceoff wins. |\n",
    "| CF% | Calculated as the sum of shots on goal, missed shots, and blocked shots over the shots against, missed shots against and blocked shots against at equal strength. |\n",
    "| TK | Total amount of takeaways. |\n",
    "| TOI_PP | Average time on ice while on power play. |\n",
    "| GF/60_PP |Total amount of goals for while a player is on the ice, per 60 minutes of ice time during the power play. |"
   ]
  },
  {
   "cell_type": "markdown",
   "id": "376bb43b-38e7-4c37-b530-dacfbfcee114",
   "metadata": {},
   "source": [
    "__Explanatory Variable Coefficients:__\n",
    "|  Variables   |  Coefs    | Description      |\n",
    "|--------|----------------|-------------------|\n",
    "|const    |   4.66| The baseline amount of points is 4.66.  |\n",
    "|GP        |  8.21| For every game played, the player gains 8.2 points. |\n",
    "|+/-       |  10.19| For every +/-, the player is expected to score 10 more points. |\n",
    "|PIM      |   1.55| For every PIM, the player is expected to score about 1.5 more points. |\n",
    "|S        |   3.59| For every shot, the player is expected to score about 3.6 more points. |\n",
    "|FOW      |   0.26| For every faceoff win, the player is expected to score about 0.3 more points. |\n",
    "|CF%       |  -32.01|For every increase of CF%, the player is expected to score about 32 fewer points. |\n",
    "|TK       |   4.31| For every takeaway, the player is expected to score about 4.3 more points.|\n",
    "|TOI_PP    |  3.17| For every increase of time on ice during the power play, the player is expected to score about 3.2 more points.|\n",
    "|GF/60_PP  |  12.01|For every increase of goals for per 60 minutes, the player is expected to score about 12 more points. |\n",
    "-----\n",
    "*The coefficents assume that every other variable is at 0.*"
   ]
  }
 ],
 "metadata": {
  "kernelspec": {
   "display_name": "Python 3 (ipykernel)",
   "language": "python",
   "name": "python3"
  },
  "language_info": {
   "codemirror_mode": {
    "name": "ipython",
    "version": 3
   },
   "file_extension": ".py",
   "mimetype": "text/x-python",
   "name": "python",
   "nbconvert_exporter": "python",
   "pygments_lexer": "ipython3",
   "version": "3.9.13"
  },
  "toc-autonumbering": true,
  "toc-showmarkdowntxt": false,
  "toc-showtags": false
 },
 "nbformat": 4,
 "nbformat_minor": 5
}
